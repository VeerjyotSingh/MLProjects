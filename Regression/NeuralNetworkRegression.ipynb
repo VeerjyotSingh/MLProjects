{
 "cells": [
  {
   "metadata": {
    "ExecuteTime": {
     "end_time": "2024-08-20T08:32:12.640295Z",
     "start_time": "2024-08-20T08:32:12.636185Z"
    }
   },
   "cell_type": "code",
   "source": [
    "import tensorflow as tf\n",
    "import matplotlib.pyplot as plt\n",
    "import numpy as np\n",
    "import pandas as pd\n",
    "from sklearn.model_selection import train_test_split\n",
    "from sklearn.preprocessing import MinMaxScaler , OneHotEncoder\n",
    "from sklearn.compose import make_column_transformer"
   ],
   "id": "72e94959c1082204",
   "outputs": [],
   "execution_count": 66
  },
  {
   "metadata": {
    "ExecuteTime": {
     "end_time": "2024-08-20T08:32:12.651047Z",
     "start_time": "2024-08-20T08:32:12.647986Z"
    }
   },
   "cell_type": "code",
   "source": [
    "print(\"Tensorflow version =\",tf.__version__)\n",
    "print(\"Pandas version =\",pd.__version__)\n",
    "print(\"Numpy version =\",np.version.version)"
   ],
   "id": "c33a2961bcaa6933",
   "outputs": [
    {
     "name": "stdout",
     "output_type": "stream",
     "text": [
      "Tensorflow version = 2.16.2\n",
      "Pandas version = 2.2.2\n",
      "Numpy version = 1.26.4\n"
     ]
    }
   ],
   "execution_count": 67
  },
  {
   "metadata": {
    "ExecuteTime": {
     "end_time": "2024-08-20T08:32:12.664989Z",
     "start_time": "2024-08-20T08:32:12.652793Z"
    }
   },
   "cell_type": "code",
   "source": [
    "data = pd.read_csv(\"Regression/insurance.csv\")\n",
    "data.head()"
   ],
   "id": "d08b55b4a34f40a9",
   "outputs": [
    {
     "data": {
      "text/plain": [
       "   age     sex     bmi  children smoker     region      charges\n",
       "0   19  female  27.900         0    yes  southwest  16884.92400\n",
       "1   18    male  33.770         1     no  southeast   1725.55230\n",
       "2   28    male  33.000         3     no  southeast   4449.46200\n",
       "3   33    male  22.705         0     no  northwest  21984.47061\n",
       "4   32    male  28.880         0     no  northwest   3866.85520"
      ],
      "text/html": [
       "<div>\n",
       "<style scoped>\n",
       "    .dataframe tbody tr th:only-of-type {\n",
       "        vertical-align: middle;\n",
       "    }\n",
       "\n",
       "    .dataframe tbody tr th {\n",
       "        vertical-align: top;\n",
       "    }\n",
       "\n",
       "    .dataframe thead th {\n",
       "        text-align: right;\n",
       "    }\n",
       "</style>\n",
       "<table border=\"1\" class=\"dataframe\">\n",
       "  <thead>\n",
       "    <tr style=\"text-align: right;\">\n",
       "      <th></th>\n",
       "      <th>age</th>\n",
       "      <th>sex</th>\n",
       "      <th>bmi</th>\n",
       "      <th>children</th>\n",
       "      <th>smoker</th>\n",
       "      <th>region</th>\n",
       "      <th>charges</th>\n",
       "    </tr>\n",
       "  </thead>\n",
       "  <tbody>\n",
       "    <tr>\n",
       "      <th>0</th>\n",
       "      <td>19</td>\n",
       "      <td>female</td>\n",
       "      <td>27.900</td>\n",
       "      <td>0</td>\n",
       "      <td>yes</td>\n",
       "      <td>southwest</td>\n",
       "      <td>16884.92400</td>\n",
       "    </tr>\n",
       "    <tr>\n",
       "      <th>1</th>\n",
       "      <td>18</td>\n",
       "      <td>male</td>\n",
       "      <td>33.770</td>\n",
       "      <td>1</td>\n",
       "      <td>no</td>\n",
       "      <td>southeast</td>\n",
       "      <td>1725.55230</td>\n",
       "    </tr>\n",
       "    <tr>\n",
       "      <th>2</th>\n",
       "      <td>28</td>\n",
       "      <td>male</td>\n",
       "      <td>33.000</td>\n",
       "      <td>3</td>\n",
       "      <td>no</td>\n",
       "      <td>southeast</td>\n",
       "      <td>4449.46200</td>\n",
       "    </tr>\n",
       "    <tr>\n",
       "      <th>3</th>\n",
       "      <td>33</td>\n",
       "      <td>male</td>\n",
       "      <td>22.705</td>\n",
       "      <td>0</td>\n",
       "      <td>no</td>\n",
       "      <td>northwest</td>\n",
       "      <td>21984.47061</td>\n",
       "    </tr>\n",
       "    <tr>\n",
       "      <th>4</th>\n",
       "      <td>32</td>\n",
       "      <td>male</td>\n",
       "      <td>28.880</td>\n",
       "      <td>0</td>\n",
       "      <td>no</td>\n",
       "      <td>northwest</td>\n",
       "      <td>3866.85520</td>\n",
       "    </tr>\n",
       "  </tbody>\n",
       "</table>\n",
       "</div>"
      ]
     },
     "execution_count": 68,
     "metadata": {},
     "output_type": "execute_result"
    }
   ],
   "execution_count": 68
  },
  {
   "metadata": {
    "ExecuteTime": {
     "end_time": "2024-08-20T08:32:12.682135Z",
     "start_time": "2024-08-20T08:32:12.666035Z"
    }
   },
   "cell_type": "code",
   "source": [
    "ct = make_column_transformer(\n",
    "    (MinMaxScaler(), [\"age\",\"bmi\",\"children\"]),\n",
    "    (OneHotEncoder(), [\"sex\",\"smoker\",\"region\"]),\n",
    ")\n",
    "data_train, data_test = train_test_split(data, test_size=0.2)\n",
    "\n",
    "x_train_data = data_train.drop(\"charges\", axis=1)\n",
    "y_train_data = data_train[\"charges\"]\n",
    "x_test_data = data_test.drop(\"charges\", axis=1)\n",
    "y_test_data = data_test[\"charges\"]\n",
    "ct.fit(x_train_data)\n",
    "x_train_transformed = ct.transform(x_train_data)\n",
    "x_test_transformed = ct.transform(x_test_data)\n"
   ],
   "id": "cc8ccfa7b049482d",
   "outputs": [],
   "execution_count": 69
  },
  {
   "metadata": {
    "ExecuteTime": {
     "end_time": "2024-08-20T08:32:12.693673Z",
     "start_time": "2024-08-20T08:32:12.683580Z"
    }
   },
   "cell_type": "code",
   "source": [
    "model = tf.keras.Sequential([\n",
    "    tf.keras.layers.Dense(11,name='hidden_layer0'),\n",
    "    tf.keras.layers.Dense(500,name='hidden_layer1'),\n",
    "    tf.keras.layers.Dense(500,name='hidden_layer2'),\n",
    "    tf.keras.layers.Dense(500,name='hidden_layer6'),\n",
    "    tf.keras.layers.Dense(10,name='hidden_layer7')\n",
    "])\n",
    "\n",
    "model.compile(loss=tf.keras.losses.MeanAbsoluteError() , optimizer=tf.keras.optimizers.Adam(learning_rate = 0.00005), metrics=[\"mae\"])"
   ],
   "id": "9d81f65cf051c4c1",
   "outputs": [],
   "execution_count": 70
  },
  {
   "metadata": {
    "ExecuteTime": {
     "end_time": "2024-08-20T08:33:01.248658Z",
     "start_time": "2024-08-20T08:32:12.694225Z"
    }
   },
   "cell_type": "code",
   "source": "history = model.fit(x_train_transformed, y_train_data, epochs=200, verbose=2)",
   "id": "5e0734a522113c00",
   "outputs": [
    {
     "name": "stdout",
     "output_type": "stream",
     "text": [
      "Epoch 1/200\n",
      "34/34 - 1s - 29ms/step - loss: 13046.7832 - mae: 13046.7832\n",
      "Epoch 2/200\n",
      "34/34 - 0s - 7ms/step - loss: 13043.9697 - mae: 13043.9697\n",
      "Epoch 3/200\n",
      "34/34 - 0s - 7ms/step - loss: 13035.5967 - mae: 13035.5967\n",
      "Epoch 4/200\n",
      "34/34 - 0s - 7ms/step - loss: 13012.8145 - mae: 13012.8145\n",
      "Epoch 5/200\n",
      "34/34 - 0s - 6ms/step - loss: 12959.7881 - mae: 12959.7881\n",
      "Epoch 6/200\n",
      "34/34 - 0s - 7ms/step - loss: 12852.6836 - mae: 12852.6836\n",
      "Epoch 7/200\n",
      "34/34 - 0s - 7ms/step - loss: 12657.0908 - mae: 12657.0908\n",
      "Epoch 8/200\n",
      "34/34 - 0s - 7ms/step - loss: 12329.5879 - mae: 12329.5879\n",
      "Epoch 9/200\n",
      "34/34 - 0s - 7ms/step - loss: 11814.9121 - mae: 11814.9121\n",
      "Epoch 10/200\n",
      "34/34 - 0s - 7ms/step - loss: 11087.1777 - mae: 11087.1777\n",
      "Epoch 11/200\n",
      "34/34 - 0s - 7ms/step - loss: 10245.0996 - mae: 10245.0996\n",
      "Epoch 12/200\n",
      "34/34 - 0s - 7ms/step - loss: 9411.5762 - mae: 9411.5762\n",
      "Epoch 13/200\n",
      "34/34 - 0s - 7ms/step - loss: 8691.5479 - mae: 8691.5479\n",
      "Epoch 14/200\n",
      "34/34 - 0s - 7ms/step - loss: 8241.4561 - mae: 8241.4561\n",
      "Epoch 15/200\n",
      "34/34 - 0s - 7ms/step - loss: 8012.9058 - mae: 8012.9058\n",
      "Epoch 16/200\n",
      "34/34 - 0s - 7ms/step - loss: 7918.0327 - mae: 7918.0327\n",
      "Epoch 17/200\n",
      "34/34 - 0s - 7ms/step - loss: 7874.7466 - mae: 7874.7466\n",
      "Epoch 18/200\n",
      "34/34 - 0s - 7ms/step - loss: 7835.6792 - mae: 7835.6792\n",
      "Epoch 19/200\n",
      "34/34 - 0s - 7ms/step - loss: 7801.7500 - mae: 7801.7500\n",
      "Epoch 20/200\n",
      "34/34 - 0s - 7ms/step - loss: 7767.1143 - mae: 7767.1143\n",
      "Epoch 21/200\n",
      "34/34 - 0s - 7ms/step - loss: 7735.0493 - mae: 7735.0493\n",
      "Epoch 22/200\n",
      "34/34 - 0s - 7ms/step - loss: 7701.4077 - mae: 7701.4077\n",
      "Epoch 23/200\n",
      "34/34 - 0s - 7ms/step - loss: 7667.8774 - mae: 7667.8774\n",
      "Epoch 24/200\n",
      "34/34 - 0s - 7ms/step - loss: 7637.9404 - mae: 7637.9404\n",
      "Epoch 25/200\n",
      "34/34 - 0s - 7ms/step - loss: 7602.5737 - mae: 7602.5737\n",
      "Epoch 26/200\n",
      "34/34 - 0s - 7ms/step - loss: 7571.5718 - mae: 7571.5718\n",
      "Epoch 27/200\n",
      "34/34 - 0s - 7ms/step - loss: 7537.3701 - mae: 7537.3701\n",
      "Epoch 28/200\n",
      "34/34 - 0s - 7ms/step - loss: 7503.4219 - mae: 7503.4219\n",
      "Epoch 29/200\n",
      "34/34 - 0s - 7ms/step - loss: 7467.3838 - mae: 7467.3838\n",
      "Epoch 30/200\n",
      "34/34 - 0s - 7ms/step - loss: 7431.6284 - mae: 7431.6284\n",
      "Epoch 31/200\n",
      "34/34 - 0s - 7ms/step - loss: 7396.4585 - mae: 7396.4585\n",
      "Epoch 32/200\n",
      "34/34 - 0s - 7ms/step - loss: 7361.1543 - mae: 7361.1543\n",
      "Epoch 33/200\n",
      "34/34 - 0s - 7ms/step - loss: 7320.2764 - mae: 7320.2764\n",
      "Epoch 34/200\n",
      "34/34 - 0s - 7ms/step - loss: 7283.0688 - mae: 7283.0688\n",
      "Epoch 35/200\n",
      "34/34 - 0s - 7ms/step - loss: 7242.9800 - mae: 7242.9800\n",
      "Epoch 36/200\n",
      "34/34 - 0s - 7ms/step - loss: 7203.1421 - mae: 7203.1421\n",
      "Epoch 37/200\n",
      "34/34 - 0s - 7ms/step - loss: 7162.9595 - mae: 7162.9595\n",
      "Epoch 38/200\n",
      "34/34 - 0s - 7ms/step - loss: 7116.8262 - mae: 7116.8262\n",
      "Epoch 39/200\n",
      "34/34 - 0s - 7ms/step - loss: 7075.2466 - mae: 7075.2466\n",
      "Epoch 40/200\n",
      "34/34 - 0s - 7ms/step - loss: 7028.4912 - mae: 7028.4912\n",
      "Epoch 41/200\n",
      "34/34 - 0s - 7ms/step - loss: 6979.4512 - mae: 6979.4512\n",
      "Epoch 42/200\n",
      "34/34 - 0s - 7ms/step - loss: 6928.5654 - mae: 6928.5654\n",
      "Epoch 43/200\n",
      "34/34 - 0s - 7ms/step - loss: 6876.5054 - mae: 6876.5054\n",
      "Epoch 44/200\n",
      "34/34 - 0s - 7ms/step - loss: 6822.1021 - mae: 6822.1021\n",
      "Epoch 45/200\n",
      "34/34 - 0s - 7ms/step - loss: 6773.8828 - mae: 6773.8828\n",
      "Epoch 46/200\n",
      "34/34 - 0s - 7ms/step - loss: 6705.9360 - mae: 6705.9360\n",
      "Epoch 47/200\n",
      "34/34 - 0s - 7ms/step - loss: 6642.7529 - mae: 6642.7529\n",
      "Epoch 48/200\n",
      "34/34 - 0s - 7ms/step - loss: 6575.8652 - mae: 6575.8652\n",
      "Epoch 49/200\n",
      "34/34 - 0s - 7ms/step - loss: 6505.2905 - mae: 6505.2905\n",
      "Epoch 50/200\n",
      "34/34 - 0s - 7ms/step - loss: 6430.5132 - mae: 6430.5132\n",
      "Epoch 51/200\n",
      "34/34 - 0s - 7ms/step - loss: 6347.9917 - mae: 6347.9917\n",
      "Epoch 52/200\n",
      "34/34 - 0s - 7ms/step - loss: 6262.0234 - mae: 6262.0234\n",
      "Epoch 53/200\n",
      "34/34 - 0s - 7ms/step - loss: 6164.8364 - mae: 6164.8364\n",
      "Epoch 54/200\n",
      "34/34 - 0s - 7ms/step - loss: 6065.6958 - mae: 6065.6958\n",
      "Epoch 55/200\n",
      "34/34 - 0s - 7ms/step - loss: 5957.9023 - mae: 5957.9023\n",
      "Epoch 56/200\n",
      "34/34 - 0s - 7ms/step - loss: 5835.0830 - mae: 5835.0830\n",
      "Epoch 57/200\n",
      "34/34 - 0s - 7ms/step - loss: 5705.3032 - mae: 5705.3032\n",
      "Epoch 58/200\n",
      "34/34 - 0s - 7ms/step - loss: 5561.9287 - mae: 5561.9287\n",
      "Epoch 59/200\n",
      "34/34 - 0s - 7ms/step - loss: 5404.3101 - mae: 5404.3101\n",
      "Epoch 60/200\n",
      "34/34 - 0s - 7ms/step - loss: 5231.8638 - mae: 5231.8638\n",
      "Epoch 61/200\n",
      "34/34 - 0s - 7ms/step - loss: 5045.1147 - mae: 5045.1147\n",
      "Epoch 62/200\n",
      "34/34 - 0s - 7ms/step - loss: 4838.8486 - mae: 4838.8486\n",
      "Epoch 63/200\n",
      "34/34 - 0s - 7ms/step - loss: 4633.7720 - mae: 4633.7720\n",
      "Epoch 64/200\n",
      "34/34 - 0s - 7ms/step - loss: 4420.8203 - mae: 4420.8203\n",
      "Epoch 65/200\n",
      "34/34 - 0s - 7ms/step - loss: 4219.8286 - mae: 4219.8286\n",
      "Epoch 66/200\n",
      "34/34 - 0s - 7ms/step - loss: 4043.0813 - mae: 4043.0813\n",
      "Epoch 67/200\n",
      "34/34 - 0s - 7ms/step - loss: 3908.6523 - mae: 3908.6523\n",
      "Epoch 68/200\n",
      "34/34 - 0s - 7ms/step - loss: 3812.3198 - mae: 3812.3198\n",
      "Epoch 69/200\n",
      "34/34 - 0s - 7ms/step - loss: 3750.2837 - mae: 3750.2837\n",
      "Epoch 70/200\n",
      "34/34 - 0s - 7ms/step - loss: 3716.1018 - mae: 3716.1018\n",
      "Epoch 71/200\n",
      "34/34 - 0s - 7ms/step - loss: 3691.5632 - mae: 3691.5632\n",
      "Epoch 72/200\n",
      "34/34 - 0s - 7ms/step - loss: 3668.9358 - mae: 3668.9358\n",
      "Epoch 73/200\n",
      "34/34 - 0s - 7ms/step - loss: 3654.6704 - mae: 3654.6704\n",
      "Epoch 74/200\n",
      "34/34 - 0s - 7ms/step - loss: 3638.2568 - mae: 3638.2568\n",
      "Epoch 75/200\n",
      "34/34 - 0s - 7ms/step - loss: 3626.0679 - mae: 3626.0679\n",
      "Epoch 76/200\n",
      "34/34 - 0s - 7ms/step - loss: 3615.2744 - mae: 3615.2744\n",
      "Epoch 77/200\n",
      "34/34 - 0s - 7ms/step - loss: 3606.3870 - mae: 3606.3870\n",
      "Epoch 78/200\n",
      "34/34 - 0s - 7ms/step - loss: 3597.7014 - mae: 3597.7014\n",
      "Epoch 79/200\n",
      "34/34 - 0s - 7ms/step - loss: 3593.7832 - mae: 3593.7832\n",
      "Epoch 80/200\n",
      "34/34 - 0s - 7ms/step - loss: 3585.4861 - mae: 3585.4861\n",
      "Epoch 81/200\n",
      "34/34 - 0s - 7ms/step - loss: 3579.9973 - mae: 3579.9973\n",
      "Epoch 82/200\n",
      "34/34 - 0s - 7ms/step - loss: 3575.7744 - mae: 3575.7744\n",
      "Epoch 83/200\n",
      "34/34 - 0s - 7ms/step - loss: 3571.3357 - mae: 3571.3357\n",
      "Epoch 84/200\n",
      "34/34 - 0s - 7ms/step - loss: 3567.7209 - mae: 3567.7209\n",
      "Epoch 85/200\n",
      "34/34 - 0s - 7ms/step - loss: 3566.0645 - mae: 3566.0645\n",
      "Epoch 86/200\n",
      "34/34 - 0s - 7ms/step - loss: 3562.8137 - mae: 3562.8137\n",
      "Epoch 87/200\n",
      "34/34 - 0s - 7ms/step - loss: 3563.7979 - mae: 3563.7979\n",
      "Epoch 88/200\n",
      "34/34 - 0s - 7ms/step - loss: 3559.1951 - mae: 3559.1951\n",
      "Epoch 89/200\n",
      "34/34 - 0s - 7ms/step - loss: 3557.7993 - mae: 3557.7993\n",
      "Epoch 90/200\n",
      "34/34 - 0s - 7ms/step - loss: 3556.4937 - mae: 3556.4937\n",
      "Epoch 91/200\n",
      "34/34 - 0s - 7ms/step - loss: 3554.4883 - mae: 3554.4883\n",
      "Epoch 92/200\n",
      "34/34 - 0s - 7ms/step - loss: 3551.0195 - mae: 3551.0195\n",
      "Epoch 93/200\n",
      "34/34 - 0s - 7ms/step - loss: 3553.2466 - mae: 3553.2466\n",
      "Epoch 94/200\n",
      "34/34 - 0s - 7ms/step - loss: 3550.2446 - mae: 3550.2446\n",
      "Epoch 95/200\n",
      "34/34 - 0s - 7ms/step - loss: 3548.2947 - mae: 3548.2947\n",
      "Epoch 96/200\n",
      "34/34 - 0s - 7ms/step - loss: 3546.8237 - mae: 3546.8237\n",
      "Epoch 97/200\n",
      "34/34 - 0s - 7ms/step - loss: 3548.8313 - mae: 3548.8313\n",
      "Epoch 98/200\n",
      "34/34 - 0s - 7ms/step - loss: 3545.7966 - mae: 3545.7966\n",
      "Epoch 99/200\n",
      "34/34 - 0s - 7ms/step - loss: 3543.6707 - mae: 3543.6707\n",
      "Epoch 100/200\n",
      "34/34 - 0s - 7ms/step - loss: 3542.0637 - mae: 3542.0637\n",
      "Epoch 101/200\n",
      "34/34 - 0s - 7ms/step - loss: 3539.8655 - mae: 3539.8655\n",
      "Epoch 102/200\n",
      "34/34 - 0s - 7ms/step - loss: 3540.4316 - mae: 3540.4316\n",
      "Epoch 103/200\n",
      "34/34 - 0s - 7ms/step - loss: 3540.3816 - mae: 3540.3816\n",
      "Epoch 104/200\n",
      "34/34 - 0s - 8ms/step - loss: 3537.0693 - mae: 3537.0693\n",
      "Epoch 105/200\n",
      "34/34 - 0s - 7ms/step - loss: 3537.1597 - mae: 3537.1597\n",
      "Epoch 106/200\n",
      "34/34 - 0s - 7ms/step - loss: 3534.3708 - mae: 3534.3708\n",
      "Epoch 107/200\n",
      "34/34 - 0s - 8ms/step - loss: 3535.8652 - mae: 3535.8652\n",
      "Epoch 108/200\n",
      "34/34 - 0s - 7ms/step - loss: 3532.8381 - mae: 3532.8381\n",
      "Epoch 109/200\n",
      "34/34 - 0s - 7ms/step - loss: 3531.1506 - mae: 3531.1506\n",
      "Epoch 110/200\n",
      "34/34 - 0s - 7ms/step - loss: 3533.9863 - mae: 3533.9863\n",
      "Epoch 111/200\n",
      "34/34 - 0s - 7ms/step - loss: 3530.7749 - mae: 3530.7749\n",
      "Epoch 112/200\n",
      "34/34 - 0s - 7ms/step - loss: 3531.4199 - mae: 3531.4199\n",
      "Epoch 113/200\n",
      "34/34 - 0s - 7ms/step - loss: 3528.4751 - mae: 3528.4751\n",
      "Epoch 114/200\n",
      "34/34 - 0s - 7ms/step - loss: 3531.4111 - mae: 3531.4111\n",
      "Epoch 115/200\n",
      "34/34 - 0s - 7ms/step - loss: 3527.9526 - mae: 3527.9526\n",
      "Epoch 116/200\n",
      "34/34 - 0s - 7ms/step - loss: 3529.2607 - mae: 3529.2607\n",
      "Epoch 117/200\n",
      "34/34 - 0s - 7ms/step - loss: 3523.9709 - mae: 3523.9709\n",
      "Epoch 118/200\n",
      "34/34 - 0s - 7ms/step - loss: 3523.4971 - mae: 3523.4971\n",
      "Epoch 119/200\n",
      "34/34 - 0s - 7ms/step - loss: 3522.6206 - mae: 3522.6206\n",
      "Epoch 120/200\n",
      "34/34 - 0s - 7ms/step - loss: 3523.8989 - mae: 3523.8989\n",
      "Epoch 121/200\n",
      "34/34 - 0s - 7ms/step - loss: 3521.3794 - mae: 3521.3794\n",
      "Epoch 122/200\n",
      "34/34 - 0s - 7ms/step - loss: 3519.2366 - mae: 3519.2366\n",
      "Epoch 123/200\n",
      "34/34 - 0s - 7ms/step - loss: 3525.6343 - mae: 3525.6343\n",
      "Epoch 124/200\n",
      "34/34 - 0s - 7ms/step - loss: 3517.3298 - mae: 3517.3298\n",
      "Epoch 125/200\n",
      "34/34 - 0s - 7ms/step - loss: 3516.8379 - mae: 3516.8379\n",
      "Epoch 126/200\n",
      "34/34 - 0s - 7ms/step - loss: 3518.5750 - mae: 3518.5750\n",
      "Epoch 127/200\n",
      "34/34 - 0s - 7ms/step - loss: 3514.4094 - mae: 3514.4094\n",
      "Epoch 128/200\n",
      "34/34 - 0s - 7ms/step - loss: 3514.5728 - mae: 3514.5728\n",
      "Epoch 129/200\n",
      "34/34 - 0s - 7ms/step - loss: 3514.6213 - mae: 3514.6213\n",
      "Epoch 130/200\n",
      "34/34 - 0s - 7ms/step - loss: 3515.0315 - mae: 3515.0315\n",
      "Epoch 131/200\n",
      "34/34 - 0s - 7ms/step - loss: 3511.0750 - mae: 3511.0750\n",
      "Epoch 132/200\n",
      "34/34 - 0s - 7ms/step - loss: 3511.5688 - mae: 3511.5688\n",
      "Epoch 133/200\n",
      "34/34 - 0s - 7ms/step - loss: 3511.8398 - mae: 3511.8398\n",
      "Epoch 134/200\n",
      "34/34 - 0s - 7ms/step - loss: 3511.1594 - mae: 3511.1594\n",
      "Epoch 135/200\n",
      "34/34 - 0s - 7ms/step - loss: 3508.6252 - mae: 3508.6252\n",
      "Epoch 136/200\n",
      "34/34 - 0s - 7ms/step - loss: 3511.9258 - mae: 3511.9258\n",
      "Epoch 137/200\n",
      "34/34 - 0s - 7ms/step - loss: 3507.9204 - mae: 3507.9204\n",
      "Epoch 138/200\n",
      "34/34 - 0s - 7ms/step - loss: 3504.4143 - mae: 3504.4143\n",
      "Epoch 139/200\n",
      "34/34 - 0s - 8ms/step - loss: 3504.0291 - mae: 3504.0291\n",
      "Epoch 140/200\n",
      "34/34 - 0s - 7ms/step - loss: 3503.7844 - mae: 3503.7844\n",
      "Epoch 141/200\n",
      "34/34 - 0s - 8ms/step - loss: 3503.0903 - mae: 3503.0903\n",
      "Epoch 142/200\n",
      "34/34 - 0s - 7ms/step - loss: 3501.5144 - mae: 3501.5144\n",
      "Epoch 143/200\n",
      "34/34 - 0s - 7ms/step - loss: 3498.7415 - mae: 3498.7415\n",
      "Epoch 144/200\n",
      "34/34 - 0s - 7ms/step - loss: 3498.2754 - mae: 3498.2754\n",
      "Epoch 145/200\n",
      "34/34 - 0s - 7ms/step - loss: 3497.9336 - mae: 3497.9336\n",
      "Epoch 146/200\n",
      "34/34 - 0s - 7ms/step - loss: 3497.8896 - mae: 3497.8896\n",
      "Epoch 147/200\n",
      "34/34 - 0s - 7ms/step - loss: 3496.4744 - mae: 3496.4744\n",
      "Epoch 148/200\n",
      "34/34 - 0s - 7ms/step - loss: 3493.8125 - mae: 3493.8125\n",
      "Epoch 149/200\n",
      "34/34 - 0s - 7ms/step - loss: 3494.8608 - mae: 3494.8608\n",
      "Epoch 150/200\n",
      "34/34 - 0s - 7ms/step - loss: 3494.3818 - mae: 3494.3818\n",
      "Epoch 151/200\n",
      "34/34 - 0s - 7ms/step - loss: 3494.9121 - mae: 3494.9121\n",
      "Epoch 152/200\n",
      "34/34 - 0s - 7ms/step - loss: 3492.0562 - mae: 3492.0562\n",
      "Epoch 153/200\n",
      "34/34 - 0s - 7ms/step - loss: 3488.8711 - mae: 3488.8711\n",
      "Epoch 154/200\n",
      "34/34 - 0s - 7ms/step - loss: 3487.8718 - mae: 3487.8718\n",
      "Epoch 155/200\n",
      "34/34 - 0s - 7ms/step - loss: 3487.8289 - mae: 3487.8289\n",
      "Epoch 156/200\n",
      "34/34 - 0s - 7ms/step - loss: 3489.3142 - mae: 3489.3142\n",
      "Epoch 157/200\n",
      "34/34 - 0s - 7ms/step - loss: 3485.8831 - mae: 3485.8831\n",
      "Epoch 158/200\n",
      "34/34 - 0s - 7ms/step - loss: 3484.3428 - mae: 3484.3428\n",
      "Epoch 159/200\n",
      "34/34 - 0s - 7ms/step - loss: 3483.0427 - mae: 3483.0427\n",
      "Epoch 160/200\n",
      "34/34 - 0s - 7ms/step - loss: 3481.6917 - mae: 3481.6917\n",
      "Epoch 161/200\n",
      "34/34 - 0s - 7ms/step - loss: 3484.2400 - mae: 3484.2400\n",
      "Epoch 162/200\n",
      "34/34 - 0s - 8ms/step - loss: 3480.7283 - mae: 3480.7283\n",
      "Epoch 163/200\n",
      "34/34 - 0s - 7ms/step - loss: 3478.0925 - mae: 3478.0925\n",
      "Epoch 164/200\n",
      "34/34 - 0s - 7ms/step - loss: 3476.7744 - mae: 3476.7744\n",
      "Epoch 165/200\n",
      "34/34 - 0s - 7ms/step - loss: 3476.1406 - mae: 3476.1406\n",
      "Epoch 166/200\n",
      "34/34 - 0s - 7ms/step - loss: 3477.4692 - mae: 3477.4692\n",
      "Epoch 167/200\n",
      "34/34 - 0s - 7ms/step - loss: 3475.5190 - mae: 3475.5190\n",
      "Epoch 168/200\n",
      "34/34 - 0s - 7ms/step - loss: 3474.1372 - mae: 3474.1372\n",
      "Epoch 169/200\n",
      "34/34 - 0s - 7ms/step - loss: 3472.4932 - mae: 3472.4932\n",
      "Epoch 170/200\n",
      "34/34 - 0s - 7ms/step - loss: 3471.5049 - mae: 3471.5049\n",
      "Epoch 171/200\n",
      "34/34 - 0s - 7ms/step - loss: 3473.7893 - mae: 3473.7893\n",
      "Epoch 172/200\n",
      "34/34 - 0s - 7ms/step - loss: 3470.2527 - mae: 3470.2527\n",
      "Epoch 173/200\n",
      "34/34 - 0s - 7ms/step - loss: 3468.8708 - mae: 3468.8708\n",
      "Epoch 174/200\n",
      "34/34 - 0s - 7ms/step - loss: 3465.8843 - mae: 3465.8843\n",
      "Epoch 175/200\n",
      "34/34 - 0s - 7ms/step - loss: 3464.5920 - mae: 3464.5920\n",
      "Epoch 176/200\n",
      "34/34 - 0s - 7ms/step - loss: 3463.4104 - mae: 3463.4104\n",
      "Epoch 177/200\n",
      "34/34 - 0s - 7ms/step - loss: 3462.5769 - mae: 3462.5769\n",
      "Epoch 178/200\n",
      "34/34 - 0s - 7ms/step - loss: 3460.4844 - mae: 3460.4844\n",
      "Epoch 179/200\n",
      "34/34 - 0s - 7ms/step - loss: 3461.0337 - mae: 3461.0337\n",
      "Epoch 180/200\n",
      "34/34 - 0s - 7ms/step - loss: 3462.5986 - mae: 3462.5986\n",
      "Epoch 181/200\n",
      "34/34 - 0s - 7ms/step - loss: 3456.7910 - mae: 3456.7910\n",
      "Epoch 182/200\n",
      "34/34 - 0s - 7ms/step - loss: 3456.0278 - mae: 3456.0278\n",
      "Epoch 183/200\n",
      "34/34 - 0s - 7ms/step - loss: 3455.1479 - mae: 3455.1479\n",
      "Epoch 184/200\n",
      "34/34 - 0s - 7ms/step - loss: 3454.0144 - mae: 3454.0144\n",
      "Epoch 185/200\n",
      "34/34 - 0s - 7ms/step - loss: 3454.0483 - mae: 3454.0483\n",
      "Epoch 186/200\n",
      "34/34 - 0s - 7ms/step - loss: 3452.0295 - mae: 3452.0295\n",
      "Epoch 187/200\n",
      "34/34 - 0s - 7ms/step - loss: 3450.5603 - mae: 3450.5603\n",
      "Epoch 188/200\n",
      "34/34 - 0s - 7ms/step - loss: 3450.0605 - mae: 3450.0605\n",
      "Epoch 189/200\n",
      "34/34 - 0s - 7ms/step - loss: 3448.5693 - mae: 3448.5693\n",
      "Epoch 190/200\n",
      "34/34 - 0s - 7ms/step - loss: 3449.4893 - mae: 3449.4893\n",
      "Epoch 191/200\n",
      "34/34 - 0s - 7ms/step - loss: 3449.3220 - mae: 3449.3220\n",
      "Epoch 192/200\n",
      "34/34 - 0s - 7ms/step - loss: 3447.6350 - mae: 3447.6350\n",
      "Epoch 193/200\n",
      "34/34 - 0s - 7ms/step - loss: 3444.2568 - mae: 3444.2568\n",
      "Epoch 194/200\n",
      "34/34 - 0s - 7ms/step - loss: 3442.5952 - mae: 3442.5952\n",
      "Epoch 195/200\n",
      "34/34 - 0s - 7ms/step - loss: 3441.2195 - mae: 3441.2195\n",
      "Epoch 196/200\n",
      "34/34 - 0s - 7ms/step - loss: 3440.9980 - mae: 3440.9980\n",
      "Epoch 197/200\n",
      "34/34 - 0s - 7ms/step - loss: 3441.4602 - mae: 3441.4602\n",
      "Epoch 198/200\n",
      "34/34 - 0s - 7ms/step - loss: 3441.6406 - mae: 3441.6406\n",
      "Epoch 199/200\n",
      "34/34 - 0s - 7ms/step - loss: 3440.2690 - mae: 3440.2690\n",
      "Epoch 200/200\n",
      "34/34 - 0s - 7ms/step - loss: 3438.8428 - mae: 3438.8428\n"
     ]
    }
   ],
   "execution_count": 71
  },
  {
   "metadata": {
    "ExecuteTime": {
     "end_time": "2024-08-20T08:33:01.260176Z",
     "start_time": "2024-08-20T08:33:01.249774Z"
    }
   },
   "cell_type": "code",
   "source": "model.summary()",
   "id": "15a71dd18ed2b37f",
   "outputs": [
    {
     "data": {
      "text/plain": [
       "\u001B[1mModel: \"sequential_7\"\u001B[0m\n"
      ],
      "text/html": [
       "<pre style=\"white-space:pre;overflow-x:auto;line-height:normal;font-family:Menlo,'DejaVu Sans Mono',consolas,'Courier New',monospace\"><span style=\"font-weight: bold\">Model: \"sequential_7\"</span>\n",
       "</pre>\n"
      ]
     },
     "metadata": {},
     "output_type": "display_data"
    },
    {
     "data": {
      "text/plain": [
       "┏━━━━━━━━━━━━━━━━━━━━━━━━━━━━━━━━━┳━━━━━━━━━━━━━━━━━━━━━━━━┳━━━━━━━━━━━━━━━┓\n",
       "┃\u001B[1m \u001B[0m\u001B[1mLayer (type)                   \u001B[0m\u001B[1m \u001B[0m┃\u001B[1m \u001B[0m\u001B[1mOutput Shape          \u001B[0m\u001B[1m \u001B[0m┃\u001B[1m \u001B[0m\u001B[1m      Param #\u001B[0m\u001B[1m \u001B[0m┃\n",
       "┡━━━━━━━━━━━━━━━━━━━━━━━━━━━━━━━━━╇━━━━━━━━━━━━━━━━━━━━━━━━╇━━━━━━━━━━━━━━━┩\n",
       "│ hidden_layer0 (\u001B[38;5;33mDense\u001B[0m)           │ (\u001B[38;5;45mNone\u001B[0m, \u001B[38;5;34m11\u001B[0m)             │           \u001B[38;5;34m132\u001B[0m │\n",
       "├─────────────────────────────────┼────────────────────────┼───────────────┤\n",
       "│ hidden_layer1 (\u001B[38;5;33mDense\u001B[0m)           │ (\u001B[38;5;45mNone\u001B[0m, \u001B[38;5;34m500\u001B[0m)            │         \u001B[38;5;34m6,000\u001B[0m │\n",
       "├─────────────────────────────────┼────────────────────────┼───────────────┤\n",
       "│ hidden_layer2 (\u001B[38;5;33mDense\u001B[0m)           │ (\u001B[38;5;45mNone\u001B[0m, \u001B[38;5;34m500\u001B[0m)            │       \u001B[38;5;34m250,500\u001B[0m │\n",
       "├─────────────────────────────────┼────────────────────────┼───────────────┤\n",
       "│ hidden_layer6 (\u001B[38;5;33mDense\u001B[0m)           │ (\u001B[38;5;45mNone\u001B[0m, \u001B[38;5;34m500\u001B[0m)            │       \u001B[38;5;34m250,500\u001B[0m │\n",
       "├─────────────────────────────────┼────────────────────────┼───────────────┤\n",
       "│ hidden_layer7 (\u001B[38;5;33mDense\u001B[0m)           │ (\u001B[38;5;45mNone\u001B[0m, \u001B[38;5;34m10\u001B[0m)             │         \u001B[38;5;34m5,010\u001B[0m │\n",
       "└─────────────────────────────────┴────────────────────────┴───────────────┘\n"
      ],
      "text/html": [
       "<pre style=\"white-space:pre;overflow-x:auto;line-height:normal;font-family:Menlo,'DejaVu Sans Mono',consolas,'Courier New',monospace\">┏━━━━━━━━━━━━━━━━━━━━━━━━━━━━━━━━━┳━━━━━━━━━━━━━━━━━━━━━━━━┳━━━━━━━━━━━━━━━┓\n",
       "┃<span style=\"font-weight: bold\"> Layer (type)                    </span>┃<span style=\"font-weight: bold\"> Output Shape           </span>┃<span style=\"font-weight: bold\">       Param # </span>┃\n",
       "┡━━━━━━━━━━━━━━━━━━━━━━━━━━━━━━━━━╇━━━━━━━━━━━━━━━━━━━━━━━━╇━━━━━━━━━━━━━━━┩\n",
       "│ hidden_layer0 (<span style=\"color: #0087ff; text-decoration-color: #0087ff\">Dense</span>)           │ (<span style=\"color: #00d7ff; text-decoration-color: #00d7ff\">None</span>, <span style=\"color: #00af00; text-decoration-color: #00af00\">11</span>)             │           <span style=\"color: #00af00; text-decoration-color: #00af00\">132</span> │\n",
       "├─────────────────────────────────┼────────────────────────┼───────────────┤\n",
       "│ hidden_layer1 (<span style=\"color: #0087ff; text-decoration-color: #0087ff\">Dense</span>)           │ (<span style=\"color: #00d7ff; text-decoration-color: #00d7ff\">None</span>, <span style=\"color: #00af00; text-decoration-color: #00af00\">500</span>)            │         <span style=\"color: #00af00; text-decoration-color: #00af00\">6,000</span> │\n",
       "├─────────────────────────────────┼────────────────────────┼───────────────┤\n",
       "│ hidden_layer2 (<span style=\"color: #0087ff; text-decoration-color: #0087ff\">Dense</span>)           │ (<span style=\"color: #00d7ff; text-decoration-color: #00d7ff\">None</span>, <span style=\"color: #00af00; text-decoration-color: #00af00\">500</span>)            │       <span style=\"color: #00af00; text-decoration-color: #00af00\">250,500</span> │\n",
       "├─────────────────────────────────┼────────────────────────┼───────────────┤\n",
       "│ hidden_layer6 (<span style=\"color: #0087ff; text-decoration-color: #0087ff\">Dense</span>)           │ (<span style=\"color: #00d7ff; text-decoration-color: #00d7ff\">None</span>, <span style=\"color: #00af00; text-decoration-color: #00af00\">500</span>)            │       <span style=\"color: #00af00; text-decoration-color: #00af00\">250,500</span> │\n",
       "├─────────────────────────────────┼────────────────────────┼───────────────┤\n",
       "│ hidden_layer7 (<span style=\"color: #0087ff; text-decoration-color: #0087ff\">Dense</span>)           │ (<span style=\"color: #00d7ff; text-decoration-color: #00d7ff\">None</span>, <span style=\"color: #00af00; text-decoration-color: #00af00\">10</span>)             │         <span style=\"color: #00af00; text-decoration-color: #00af00\">5,010</span> │\n",
       "└─────────────────────────────────┴────────────────────────┴───────────────┘\n",
       "</pre>\n"
      ]
     },
     "metadata": {},
     "output_type": "display_data"
    },
    {
     "data": {
      "text/plain": [
       "\u001B[1m Total params: \u001B[0m\u001B[38;5;34m1,536,428\u001B[0m (5.86 MB)\n"
      ],
      "text/html": [
       "<pre style=\"white-space:pre;overflow-x:auto;line-height:normal;font-family:Menlo,'DejaVu Sans Mono',consolas,'Courier New',monospace\"><span style=\"font-weight: bold\"> Total params: </span><span style=\"color: #00af00; text-decoration-color: #00af00\">1,536,428</span> (5.86 MB)\n",
       "</pre>\n"
      ]
     },
     "metadata": {},
     "output_type": "display_data"
    },
    {
     "data": {
      "text/plain": [
       "\u001B[1m Trainable params: \u001B[0m\u001B[38;5;34m512,142\u001B[0m (1.95 MB)\n"
      ],
      "text/html": [
       "<pre style=\"white-space:pre;overflow-x:auto;line-height:normal;font-family:Menlo,'DejaVu Sans Mono',consolas,'Courier New',monospace\"><span style=\"font-weight: bold\"> Trainable params: </span><span style=\"color: #00af00; text-decoration-color: #00af00\">512,142</span> (1.95 MB)\n",
       "</pre>\n"
      ]
     },
     "metadata": {},
     "output_type": "display_data"
    },
    {
     "data": {
      "text/plain": [
       "\u001B[1m Non-trainable params: \u001B[0m\u001B[38;5;34m0\u001B[0m (0.00 B)\n"
      ],
      "text/html": [
       "<pre style=\"white-space:pre;overflow-x:auto;line-height:normal;font-family:Menlo,'DejaVu Sans Mono',consolas,'Courier New',monospace\"><span style=\"font-weight: bold\"> Non-trainable params: </span><span style=\"color: #00af00; text-decoration-color: #00af00\">0</span> (0.00 B)\n",
       "</pre>\n"
      ]
     },
     "metadata": {},
     "output_type": "display_data"
    },
    {
     "data": {
      "text/plain": [
       "\u001B[1m Optimizer params: \u001B[0m\u001B[38;5;34m1,024,286\u001B[0m (3.91 MB)\n"
      ],
      "text/html": [
       "<pre style=\"white-space:pre;overflow-x:auto;line-height:normal;font-family:Menlo,'DejaVu Sans Mono',consolas,'Courier New',monospace\"><span style=\"font-weight: bold\"> Optimizer params: </span><span style=\"color: #00af00; text-decoration-color: #00af00\">1,024,286</span> (3.91 MB)\n",
       "</pre>\n"
      ]
     },
     "metadata": {},
     "output_type": "display_data"
    }
   ],
   "execution_count": 72
  },
  {
   "metadata": {
    "ExecuteTime": {
     "end_time": "2024-08-20T08:33:01.408298Z",
     "start_time": "2024-08-20T08:33:01.260840Z"
    }
   },
   "cell_type": "code",
   "source": "model.evaluate(x_test_transformed, y_test_data)",
   "id": "dc2c7a8134be1a09",
   "outputs": [
    {
     "name": "stdout",
     "output_type": "stream",
     "text": [
      "\u001B[1m9/9\u001B[0m \u001B[32m━━━━━━━━━━━━━━━━━━━━\u001B[0m\u001B[37m\u001B[0m \u001B[1m0s\u001B[0m 5ms/step - loss: 3106.3813 - mae: 3106.3813 \n"
     ]
    },
    {
     "data": {
      "text/plain": [
       "[3726.905029296875, 3726.905029296875]"
      ]
     },
     "execution_count": 73,
     "metadata": {},
     "output_type": "execute_result"
    }
   ],
   "execution_count": 73
  },
  {
   "metadata": {
    "ExecuteTime": {
     "end_time": "2024-08-20T08:33:01.458331Z",
     "start_time": "2024-08-20T08:33:01.409141Z"
    }
   },
   "cell_type": "code",
   "source": [
    "pd.DataFrame(history.history).plot()\n",
    "plt.show()"
   ],
   "id": "294c08cd2e8e4ed4",
   "outputs": [
    {
     "data": {
      "text/plain": [
       "<Figure size 640x480 with 1 Axes>"
      ],
      "image/png": "[encoded data removed]"
     },
     "metadata": {},
     "output_type": "display_data"
    }
   ],
   "execution_count": 74
  },
  {
   "metadata": {
    "ExecuteTime": {
     "end_time": "2024-08-20T08:35:13.166968Z",
     "start_time": "2024-08-20T08:35:13.118430Z"
    }
   },
   "cell_type": "code",
   "source": "model.save(\"Regression/Regression.keras\")",
   "id": "943a6422b1524d2e",
   "outputs": [],
   "execution_count": 76
  },
  {
   "metadata": {
    "ExecuteTime": {
     "end_time": "2024-08-20T08:33:01.488097Z",
     "start_time": "2024-08-20T08:33:01.486755Z"
    }
   },
   "cell_type": "code",
   "source": "",
   "id": "8788f08b0e38f161",
   "outputs": [],
   "execution_count": 75
  }
 ],
 "metadata": {
  "kernelspec": {
   "display_name": "Python 3",
   "language": "python",
   "name": "python3"
  },
  "language_info": {
   "codemirror_mode": {
    "name": "ipython",
    "version": 2
   },
   "file_extension": ".py",
   "mimetype": "text/x-python",
   "name": "python",
   "nbconvert_exporter": "python",
   "pygments_lexer": "ipython2",
   "version": "2.7.6"
  }
 },
 "nbformat": 4,
 "nbformat_minor": 5
}
