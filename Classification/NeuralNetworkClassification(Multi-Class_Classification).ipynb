{
 "cells": [
  {
   "cell_type": "code",
   "id": "initial_id",
   "metadata": {
    "collapsed": true,
    "ExecuteTime": {
     "end_time": "2024-08-19T14:38:14.855893Z",
     "start_time": "2024-08-19T14:38:14.852838Z"
    }
   },
   "source": [
    "import tensorflow as tf\n",
    "from tensorflow.keras.datasets import fashion_mnist\n",
    "import numpy as np\n",
    "import matplotlib.pyplot as plt\n",
    "import pandas as pd\n",
    "from sklearn.metrics import confusion_matrix"
   ],
   "outputs": [],
   "execution_count": 111
  },
  {
   "metadata": {
    "ExecuteTime": {
     "end_time": "2024-08-19T14:38:14.861896Z",
     "start_time": "2024-08-19T14:38:14.859745Z"
    }
   },
   "cell_type": "code",
   "source": [
    "print (\"tensorflow version: \", tf.__version__)\n",
    "print (\"numpy version: \", np.__version__)\n",
    "print (\"pandas version: \", pd.__version__)"
   ],
   "id": "cc33adcf2d6e9589",
   "outputs": [
    {
     "name": "stdout",
     "output_type": "stream",
     "text": [
      "tensorflow version:  2.16.2\n",
      "numpy version:  1.26.4\n",
      "pandas version:  2.2.2\n"
     ]
    }
   ],
   "execution_count": 112
  },
  {
   "metadata": {
    "ExecuteTime": {
     "end_time": "2024-08-19T14:38:15.092609Z",
     "start_time": "2024-08-19T14:38:14.862799Z"
    }
   },
   "cell_type": "code",
   "source": [
    "(train_data, train_labels), (test_data, test_labels) = fashion_mnist.load_data()\n",
    "norm_train_data = train_data / 255.0\n",
    "norm_test_data = test_data / 255.0"
   ],
   "id": "4a66bcc5c583396a",
   "outputs": [],
   "execution_count": 113
  },
  {
   "metadata": {
    "ExecuteTime": {
     "end_time": "2024-08-19T14:38:15.145886Z",
     "start_time": "2024-08-19T14:38:15.093284Z"
    }
   },
   "cell_type": "code",
   "source": [
    "import random as rd\n",
    "plt.imshow(train_data[rd.randint(0,len(train_data)-1)], cmap=plt.get_cmap('gray'))"
   ],
   "id": "c637521c06e54553",
   "outputs": [
    {
     "data": {
      "text/plain": [
       "<matplotlib.image.AxesImage at 0x3a8ee1d50>"
      ]
     },
     "execution_count": 114,
     "metadata": {},
     "output_type": "execute_result"
    },
    {
     "data": {
      "text/plain": [
       "<Figure size 640x480 with 1 Axes>"
      ],
      "image/png": "[encoded data removed]"
     },
     "metadata": {},
     "output_type": "display_data"
    }
   ],
   "execution_count": 114
  },
  {
   "metadata": {
    "ExecuteTime": {
     "end_time": "2024-08-19T18:03:26.628276Z",
     "start_time": "2024-08-19T17:56:52.958578Z"
    }
   },
   "cell_type": "code",
   "source": [
    "model = tf.keras.models.Sequential([\n",
    "    tf.keras.layers.Flatten(input_shape=(28, 28)),\n",
    "    tf.keras.layers.Dense(30, activation='relu'),\n",
    "    tf.keras.layers.Dense(30, activation='relu'),\n",
    "    tf.keras.layers.Dense(30, activation='relu'),\n",
    "    tf.keras.layers.Dense(10, activation='softmax')\n",
    "])\n",
    "\n",
    "model.compile(optimizer='adam',\n",
    "              loss='sparse_categorical_crossentropy',\n",
    "              metrics=['accuracy'])\n",
    "\n",
    "lr_schedule = tf.keras.callbacks.LearningRateScheduler(lambda epoch: 1e-3 * 10**(epoch/20))\n",
    "history = model.fit(norm_train_data, train_labels, epochs=40, validation_data=(norm_test_data, test_labels),verbose=2,callbacks=[lr_schedule])"
   ],
   "id": "de2a187de1771d98",
   "outputs": [
    {
     "name": "stderr",
     "output_type": "stream",
     "text": [
      "/Users/veerjyotsammi/anaconda3/envs/tensorflow/lib/python3.10/site-packages/keras/src/layers/reshaping/flatten.py:37: UserWarning: Do not pass an `input_shape`/`input_dim` argument to a layer. When using Sequential models, prefer using an `Input(shape)` object as the first layer in the model instead.\n",
      "  super().__init__(**kwargs)\n"
     ]
    },
    {
     "name": "stdout",
     "output_type": "stream",
     "text": [
      "Epoch 1/40\n",
      "1875/1875 - 11s - 6ms/step - accuracy: 0.7990 - loss: 0.5689 - val_accuracy: 0.8279 - val_loss: 0.4767 - learning_rate: 0.0010\n",
      "Epoch 2/40\n",
      "1875/1875 - 10s - 5ms/step - accuracy: 0.8547 - loss: 0.4056 - val_accuracy: 0.8472 - val_loss: 0.4235 - learning_rate: 0.0011\n",
      "Epoch 3/40\n",
      "1875/1875 - 10s - 5ms/step - accuracy: 0.8641 - loss: 0.3748 - val_accuracy: 0.8594 - val_loss: 0.3927 - learning_rate: 0.0013\n",
      "Epoch 4/40\n",
      "1875/1875 - 10s - 5ms/step - accuracy: 0.8702 - loss: 0.3570 - val_accuracy: 0.8672 - val_loss: 0.3794 - learning_rate: 0.0014\n",
      "Epoch 5/40\n",
      "1875/1875 - 10s - 6ms/step - accuracy: 0.8744 - loss: 0.3444 - val_accuracy: 0.8567 - val_loss: 0.3913 - learning_rate: 0.0016\n",
      "Epoch 6/40\n",
      "1875/1875 - 10s - 5ms/step - accuracy: 0.8748 - loss: 0.3401 - val_accuracy: 0.8591 - val_loss: 0.3945 - learning_rate: 0.0018\n",
      "Epoch 7/40\n",
      "1875/1875 - 10s - 5ms/step - accuracy: 0.8789 - loss: 0.3320 - val_accuracy: 0.8693 - val_loss: 0.3806 - learning_rate: 0.0020\n",
      "Epoch 8/40\n",
      "1875/1875 - 10s - 5ms/step - accuracy: 0.8803 - loss: 0.3274 - val_accuracy: 0.8628 - val_loss: 0.3764 - learning_rate: 0.0022\n",
      "Epoch 9/40\n",
      "1875/1875 - 9s - 5ms/step - accuracy: 0.8808 - loss: 0.3270 - val_accuracy: 0.8633 - val_loss: 0.3973 - learning_rate: 0.0025\n",
      "Epoch 10/40\n",
      "1875/1875 - 9s - 5ms/step - accuracy: 0.8801 - loss: 0.3266 - val_accuracy: 0.8481 - val_loss: 0.4106 - learning_rate: 0.0028\n",
      "Epoch 11/40\n",
      "1875/1875 - 9s - 5ms/step - accuracy: 0.8794 - loss: 0.3269 - val_accuracy: 0.8715 - val_loss: 0.3697 - learning_rate: 0.0032\n",
      "Epoch 12/40\n",
      "1875/1875 - 9s - 5ms/step - accuracy: 0.8797 - loss: 0.3259 - val_accuracy: 0.8461 - val_loss: 0.4242 - learning_rate: 0.0035\n",
      "Epoch 13/40\n",
      "1875/1875 - 9s - 5ms/step - accuracy: 0.8799 - loss: 0.3298 - val_accuracy: 0.8620 - val_loss: 0.3921 - learning_rate: 0.0040\n",
      "Epoch 14/40\n",
      "1875/1875 - 10s - 5ms/step - accuracy: 0.8786 - loss: 0.3355 - val_accuracy: 0.8524 - val_loss: 0.4214 - learning_rate: 0.0045\n",
      "Epoch 15/40\n",
      "1875/1875 - 9s - 5ms/step - accuracy: 0.8772 - loss: 0.3388 - val_accuracy: 0.8538 - val_loss: 0.4197 - learning_rate: 0.0050\n",
      "Epoch 16/40\n",
      "1875/1875 - 10s - 5ms/step - accuracy: 0.8756 - loss: 0.3454 - val_accuracy: 0.8548 - val_loss: 0.4404 - learning_rate: 0.0056\n",
      "Epoch 17/40\n",
      "1875/1875 - 9s - 5ms/step - accuracy: 0.8729 - loss: 0.3522 - val_accuracy: 0.8541 - val_loss: 0.4430 - learning_rate: 0.0063\n",
      "Epoch 18/40\n",
      "1875/1875 - 9s - 5ms/step - accuracy: 0.8726 - loss: 0.3610 - val_accuracy: 0.8501 - val_loss: 0.4333 - learning_rate: 0.0071\n",
      "Epoch 19/40\n",
      "1875/1875 - 10s - 5ms/step - accuracy: 0.8694 - loss: 0.3732 - val_accuracy: 0.8634 - val_loss: 0.4060 - learning_rate: 0.0079\n",
      "Epoch 20/40\n",
      "1875/1875 - 10s - 5ms/step - accuracy: 0.8706 - loss: 0.3725 - val_accuracy: 0.8621 - val_loss: 0.4128 - learning_rate: 0.0089\n",
      "Epoch 21/40\n",
      "1875/1875 - 10s - 5ms/step - accuracy: 0.8651 - loss: 0.3903 - val_accuracy: 0.8542 - val_loss: 0.4366 - learning_rate: 0.0100\n",
      "Epoch 22/40\n",
      "1875/1875 - 10s - 5ms/step - accuracy: 0.8615 - loss: 0.4091 - val_accuracy: 0.8416 - val_loss: 0.4675 - learning_rate: 0.0112\n",
      "Epoch 23/40\n",
      "1875/1875 - 10s - 5ms/step - accuracy: 0.8524 - loss: 0.4450 - val_accuracy: 0.8378 - val_loss: 0.5085 - learning_rate: 0.0126\n",
      "Epoch 24/40\n",
      "1875/1875 - 10s - 5ms/step - accuracy: 0.8541 - loss: 0.4425 - val_accuracy: 0.8445 - val_loss: 0.4815 - learning_rate: 0.0141\n",
      "Epoch 25/40\n",
      "1875/1875 - 10s - 5ms/step - accuracy: 0.8484 - loss: 0.4587 - val_accuracy: 0.8368 - val_loss: 0.5569 - learning_rate: 0.0158\n",
      "Epoch 26/40\n",
      "1875/1875 - 10s - 5ms/step - accuracy: 0.8302 - loss: 0.5140 - val_accuracy: 0.8051 - val_loss: 0.6070 - learning_rate: 0.0178\n",
      "Epoch 27/40\n",
      "1875/1875 - 10s - 5ms/step - accuracy: 0.8184 - loss: 0.5434 - val_accuracy: 0.8192 - val_loss: 0.6260 - learning_rate: 0.0200\n",
      "Epoch 28/40\n",
      "1875/1875 - 10s - 5ms/step - accuracy: 0.7948 - loss: 0.6296 - val_accuracy: 0.7716 - val_loss: 0.6744 - learning_rate: 0.0224\n",
      "Epoch 29/40\n",
      "1875/1875 - 10s - 5ms/step - accuracy: 0.7929 - loss: 0.6104 - val_accuracy: 0.8087 - val_loss: 0.5835 - learning_rate: 0.0251\n",
      "Epoch 30/40\n",
      "1875/1875 - 10s - 5ms/step - accuracy: 0.6341 - loss: 0.9354 - val_accuracy: 0.5257 - val_loss: 1.0661 - learning_rate: 0.0282\n",
      "Epoch 31/40\n",
      "1875/1875 - 10s - 5ms/step - accuracy: 0.3584 - loss: 1.4014 - val_accuracy: 0.2930 - val_loss: 1.4774 - learning_rate: 0.0316\n",
      "Epoch 32/40\n",
      "1875/1875 - 10s - 5ms/step - accuracy: 0.2372 - loss: 1.6678 - val_accuracy: 0.1998 - val_loss: 1.7567 - learning_rate: 0.0355\n",
      "Epoch 33/40\n",
      "1875/1875 - 10s - 5ms/step - accuracy: 0.1910 - loss: 2.0258 - val_accuracy: 0.1937 - val_loss: 2.0348 - learning_rate: 0.0398\n",
      "Epoch 34/40\n",
      "1875/1875 - 10s - 5ms/step - accuracy: 0.1753 - loss: 2.0807 - val_accuracy: 0.1920 - val_loss: 2.0199 - learning_rate: 0.0447\n",
      "Epoch 35/40\n",
      "1875/1875 - 10s - 5ms/step - accuracy: 0.1864 - loss: 2.0321 - val_accuracy: 0.1765 - val_loss: 1.8883 - learning_rate: 0.0501\n",
      "Epoch 36/40\n",
      "1875/1875 - 10s - 5ms/step - accuracy: 0.1891 - loss: 1.8827 - val_accuracy: 0.1994 - val_loss: 1.8771 - learning_rate: 0.0562\n",
      "Epoch 37/40\n",
      "1875/1875 - 10s - 5ms/step - accuracy: 0.1951 - loss: 1.8328 - val_accuracy: 0.1983 - val_loss: 1.8202 - learning_rate: 0.0631\n",
      "Epoch 38/40\n",
      "1875/1875 - 10s - 6ms/step - accuracy: 0.1753 - loss: 1.9252 - val_accuracy: 0.0999 - val_loss: 2.3350 - learning_rate: 0.0708\n",
      "Epoch 39/40\n",
      "1875/1875 - 10s - 5ms/step - accuracy: 0.0997 - loss: 2.3229 - val_accuracy: 0.1000 - val_loss: 2.3180 - learning_rate: 0.0794\n",
      "Epoch 40/40\n",
      "1875/1875 - 10s - 5ms/step - accuracy: 0.1008 - loss: 2.3154 - val_accuracy: 0.1000 - val_loss: 2.3145 - learning_rate: 0.0891\n"
     ]
    }
   ],
   "execution_count": 123
  },
  {
   "metadata": {
    "ExecuteTime": {
     "end_time": "2024-08-19T18:03:26.733213Z",
     "start_time": "2024-08-19T18:03:26.629881Z"
    }
   },
   "cell_type": "code",
   "source": [
    "lr = 1e-3 * 10**(tf.range(40)/20) \n",
    "plt.semilogx(lr, history.history[\"loss\"])"
   ],
   "id": "20e79b30625f9dae",
   "outputs": [
    {
     "data": {
      "text/plain": [
       "[<matplotlib.lines.Line2D at 0x150a1b490>]"
      ]
     },
     "execution_count": 124,
     "metadata": {},
     "output_type": "execute_result"
    },
    {
     "data": {
      "text/plain": [
       "<Figure size 640x480 with 1 Axes>"
      ],
      "image/png": "[encoded data removed]"
     },
     "metadata": {},
     "output_type": "display_data"
    }
   ],
   "execution_count": 124
  },
  {
   "metadata": {
    "ExecuteTime": {
     "end_time": "2024-08-19T18:22:29.603633Z",
     "start_time": "2024-08-19T18:05:44.483489Z"
    }
   },
   "cell_type": "code",
   "source": [
    "model = tf.keras.models.Sequential([\n",
    "    tf.keras.layers.Flatten(input_shape=(28, 28)),\n",
    "    tf.keras.layers.Dense(30, activation='relu'),\n",
    "    tf.keras.layers.Dense(30, activation='relu'),\n",
    "    tf.keras.layers.Dense(30, activation='relu'),\n",
    "    tf.keras.layers.Dense(10, activation='softmax')\n",
    "])\n",
    "\n",
    "model.compile(optimizer=tf.keras.optimizers.Adam(learning_rate=1e-3 * 10**(9/20) ),\n",
    "              loss='sparse_categorical_crossentropy',\n",
    "              metrics=['accuracy'])\n",
    "\n",
    "history = model.fit(norm_train_data, train_labels, epochs=100, validation_data=(norm_test_data, test_labels),verbose=2)"
   ],
   "id": "17dcd141f4c0dede",
   "outputs": [
    {
     "name": "stdout",
     "output_type": "stream",
     "text": [
      "Epoch 1/100\n",
      "1875/1875 - 11s - 6ms/step - accuracy: 0.8093 - loss: 0.5325 - val_accuracy: 0.8461 - val_loss: 0.4330\n",
      "Epoch 2/100\n",
      "1875/1875 - 10s - 5ms/step - accuracy: 0.8529 - loss: 0.4058 - val_accuracy: 0.8466 - val_loss: 0.4307\n",
      "Epoch 3/100\n",
      "1875/1875 - 10s - 5ms/step - accuracy: 0.8604 - loss: 0.3797 - val_accuracy: 0.8527 - val_loss: 0.4117\n",
      "Epoch 4/100\n",
      "1875/1875 - 10s - 5ms/step - accuracy: 0.8663 - loss: 0.3634 - val_accuracy: 0.8428 - val_loss: 0.4149\n",
      "Epoch 5/100\n",
      "1875/1875 - 10s - 5ms/step - accuracy: 0.8718 - loss: 0.3479 - val_accuracy: 0.8600 - val_loss: 0.3931\n",
      "Epoch 6/100\n",
      "1875/1875 - 10s - 5ms/step - accuracy: 0.8757 - loss: 0.3380 - val_accuracy: 0.8614 - val_loss: 0.3825\n",
      "Epoch 7/100\n",
      "1875/1875 - 10s - 5ms/step - accuracy: 0.8798 - loss: 0.3253 - val_accuracy: 0.8532 - val_loss: 0.3991\n",
      "Epoch 8/100\n",
      "1875/1875 - 10s - 5ms/step - accuracy: 0.8817 - loss: 0.3212 - val_accuracy: 0.8704 - val_loss: 0.3738\n",
      "Epoch 9/100\n",
      "1875/1875 - 10s - 5ms/step - accuracy: 0.8825 - loss: 0.3141 - val_accuracy: 0.8686 - val_loss: 0.3643\n",
      "Epoch 10/100\n",
      "1875/1875 - 10s - 5ms/step - accuracy: 0.8860 - loss: 0.3095 - val_accuracy: 0.8651 - val_loss: 0.3896\n",
      "Epoch 11/100\n",
      "1875/1875 - 10s - 5ms/step - accuracy: 0.8882 - loss: 0.3032 - val_accuracy: 0.8505 - val_loss: 0.4162\n",
      "Epoch 12/100\n",
      "1875/1875 - 10s - 5ms/step - accuracy: 0.8889 - loss: 0.2999 - val_accuracy: 0.8588 - val_loss: 0.3956\n",
      "Epoch 13/100\n",
      "1875/1875 - 10s - 5ms/step - accuracy: 0.8888 - loss: 0.2998 - val_accuracy: 0.8579 - val_loss: 0.3900\n",
      "Epoch 14/100\n",
      "1875/1875 - 10s - 6ms/step - accuracy: 0.8915 - loss: 0.2911 - val_accuracy: 0.8490 - val_loss: 0.4162\n",
      "Epoch 15/100\n",
      "1875/1875 - 10s - 5ms/step - accuracy: 0.8929 - loss: 0.2880 - val_accuracy: 0.8617 - val_loss: 0.3948\n",
      "Epoch 16/100\n",
      "1875/1875 - 11s - 6ms/step - accuracy: 0.8924 - loss: 0.2849 - val_accuracy: 0.8653 - val_loss: 0.3801\n",
      "Epoch 17/100\n",
      "1875/1875 - 11s - 6ms/step - accuracy: 0.8952 - loss: 0.2790 - val_accuracy: 0.8607 - val_loss: 0.3946\n",
      "Epoch 18/100\n",
      "1875/1875 - 11s - 6ms/step - accuracy: 0.8944 - loss: 0.2797 - val_accuracy: 0.8709 - val_loss: 0.3840\n",
      "Epoch 19/100\n",
      "1875/1875 - 11s - 6ms/step - accuracy: 0.8964 - loss: 0.2792 - val_accuracy: 0.8714 - val_loss: 0.3760\n",
      "Epoch 20/100\n",
      "1875/1875 - 10s - 5ms/step - accuracy: 0.8964 - loss: 0.2743 - val_accuracy: 0.8690 - val_loss: 0.3757\n",
      "Epoch 21/100\n",
      "1875/1875 - 10s - 5ms/step - accuracy: 0.8973 - loss: 0.2746 - val_accuracy: 0.8658 - val_loss: 0.3874\n",
      "Epoch 22/100\n",
      "1875/1875 - 11s - 6ms/step - accuracy: 0.8997 - loss: 0.2701 - val_accuracy: 0.8731 - val_loss: 0.3890\n",
      "Epoch 23/100\n",
      "1875/1875 - 11s - 6ms/step - accuracy: 0.9001 - loss: 0.2675 - val_accuracy: 0.8704 - val_loss: 0.3947\n",
      "Epoch 24/100\n",
      "1875/1875 - 10s - 6ms/step - accuracy: 0.8998 - loss: 0.2662 - val_accuracy: 0.8725 - val_loss: 0.3953\n",
      "Epoch 25/100\n",
      "1875/1875 - 10s - 5ms/step - accuracy: 0.9009 - loss: 0.2665 - val_accuracy: 0.8678 - val_loss: 0.4053\n",
      "Epoch 26/100\n",
      "1875/1875 - 10s - 6ms/step - accuracy: 0.9017 - loss: 0.2635 - val_accuracy: 0.8723 - val_loss: 0.4040\n",
      "Epoch 27/100\n",
      "1875/1875 - 11s - 6ms/step - accuracy: 0.9025 - loss: 0.2612 - val_accuracy: 0.8688 - val_loss: 0.4074\n",
      "Epoch 28/100\n",
      "1875/1875 - 10s - 5ms/step - accuracy: 0.9034 - loss: 0.2588 - val_accuracy: 0.8761 - val_loss: 0.3812\n",
      "Epoch 29/100\n",
      "1875/1875 - 11s - 6ms/step - accuracy: 0.9030 - loss: 0.2615 - val_accuracy: 0.8762 - val_loss: 0.3824\n",
      "Epoch 30/100\n",
      "1875/1875 - 10s - 5ms/step - accuracy: 0.9044 - loss: 0.2570 - val_accuracy: 0.8712 - val_loss: 0.4011\n",
      "Epoch 31/100\n",
      "1875/1875 - 10s - 5ms/step - accuracy: 0.9031 - loss: 0.2594 - val_accuracy: 0.8730 - val_loss: 0.4012\n",
      "Epoch 32/100\n",
      "1875/1875 - 10s - 5ms/step - accuracy: 0.9051 - loss: 0.2531 - val_accuracy: 0.8526 - val_loss: 0.4301\n",
      "Epoch 33/100\n",
      "1875/1875 - 10s - 5ms/step - accuracy: 0.9046 - loss: 0.2537 - val_accuracy: 0.8759 - val_loss: 0.3831\n",
      "Epoch 34/100\n",
      "1875/1875 - 10s - 5ms/step - accuracy: 0.9052 - loss: 0.2529 - val_accuracy: 0.8641 - val_loss: 0.4855\n",
      "Epoch 35/100\n",
      "1875/1875 - 10s - 6ms/step - accuracy: 0.9070 - loss: 0.2507 - val_accuracy: 0.8717 - val_loss: 0.3866\n",
      "Epoch 36/100\n",
      "1875/1875 - 10s - 6ms/step - accuracy: 0.9067 - loss: 0.2504 - val_accuracy: 0.8747 - val_loss: 0.3894\n",
      "Epoch 37/100\n",
      "1875/1875 - 10s - 5ms/step - accuracy: 0.9080 - loss: 0.2494 - val_accuracy: 0.8713 - val_loss: 0.3971\n",
      "Epoch 38/100\n",
      "1875/1875 - 10s - 5ms/step - accuracy: 0.9089 - loss: 0.2439 - val_accuracy: 0.8701 - val_loss: 0.4128\n",
      "Epoch 39/100\n",
      "1875/1875 - 10s - 5ms/step - accuracy: 0.9079 - loss: 0.2448 - val_accuracy: 0.8760 - val_loss: 0.4026\n",
      "Epoch 40/100\n",
      "1875/1875 - 11s - 6ms/step - accuracy: 0.9097 - loss: 0.2435 - val_accuracy: 0.8762 - val_loss: 0.4102\n",
      "Epoch 41/100\n",
      "1875/1875 - 10s - 5ms/step - accuracy: 0.9095 - loss: 0.2426 - val_accuracy: 0.8717 - val_loss: 0.4195\n",
      "Epoch 42/100\n",
      "1875/1875 - 10s - 5ms/step - accuracy: 0.9093 - loss: 0.2437 - val_accuracy: 0.8727 - val_loss: 0.4114\n",
      "Epoch 43/100\n",
      "1875/1875 - 10s - 5ms/step - accuracy: 0.9099 - loss: 0.2402 - val_accuracy: 0.8700 - val_loss: 0.4169\n",
      "Epoch 44/100\n",
      "1875/1875 - 10s - 5ms/step - accuracy: 0.9103 - loss: 0.2399 - val_accuracy: 0.8729 - val_loss: 0.4290\n",
      "Epoch 45/100\n",
      "1875/1875 - 10s - 5ms/step - accuracy: 0.9105 - loss: 0.2421 - val_accuracy: 0.8685 - val_loss: 0.4343\n",
      "Epoch 46/100\n",
      "1875/1875 - 10s - 5ms/step - accuracy: 0.9113 - loss: 0.2374 - val_accuracy: 0.8737 - val_loss: 0.4252\n",
      "Epoch 47/100\n",
      "1875/1875 - 10s - 5ms/step - accuracy: 0.9112 - loss: 0.2375 - val_accuracy: 0.8813 - val_loss: 0.4165\n",
      "Epoch 48/100\n",
      "1875/1875 - 10s - 5ms/step - accuracy: 0.9114 - loss: 0.2370 - val_accuracy: 0.8737 - val_loss: 0.4295\n",
      "Epoch 49/100\n",
      "1875/1875 - 10s - 5ms/step - accuracy: 0.9106 - loss: 0.2377 - val_accuracy: 0.8614 - val_loss: 0.4238\n",
      "Epoch 50/100\n",
      "1875/1875 - 10s - 5ms/step - accuracy: 0.9114 - loss: 0.2379 - val_accuracy: 0.8668 - val_loss: 0.4376\n",
      "Epoch 51/100\n",
      "1875/1875 - 10s - 5ms/step - accuracy: 0.9118 - loss: 0.2360 - val_accuracy: 0.8702 - val_loss: 0.4123\n",
      "Epoch 52/100\n",
      "1875/1875 - 10s - 5ms/step - accuracy: 0.9109 - loss: 0.2361 - val_accuracy: 0.8672 - val_loss: 0.4414\n",
      "Epoch 53/100\n",
      "1875/1875 - 10s - 5ms/step - accuracy: 0.9108 - loss: 0.2395 - val_accuracy: 0.8706 - val_loss: 0.4488\n",
      "Epoch 54/100\n",
      "1875/1875 - 10s - 5ms/step - accuracy: 0.9126 - loss: 0.2328 - val_accuracy: 0.8703 - val_loss: 0.4544\n",
      "Epoch 55/100\n",
      "1875/1875 - 10s - 5ms/step - accuracy: 0.9114 - loss: 0.2327 - val_accuracy: 0.8723 - val_loss: 0.4492\n",
      "Epoch 56/100\n",
      "1875/1875 - 10s - 5ms/step - accuracy: 0.9129 - loss: 0.2324 - val_accuracy: 0.8696 - val_loss: 0.4250\n",
      "Epoch 57/100\n",
      "1875/1875 - 10s - 5ms/step - accuracy: 0.9123 - loss: 0.2331 - val_accuracy: 0.8715 - val_loss: 0.4529\n",
      "Epoch 58/100\n",
      "1875/1875 - 10s - 5ms/step - accuracy: 0.9145 - loss: 0.2303 - val_accuracy: 0.8636 - val_loss: 0.4539\n",
      "Epoch 59/100\n",
      "1875/1875 - 10s - 5ms/step - accuracy: 0.9150 - loss: 0.2294 - val_accuracy: 0.8595 - val_loss: 0.4801\n",
      "Epoch 60/100\n",
      "1875/1875 - 10s - 5ms/step - accuracy: 0.9133 - loss: 0.2313 - val_accuracy: 0.8735 - val_loss: 0.4629\n",
      "Epoch 61/100\n",
      "1875/1875 - 10s - 5ms/step - accuracy: 0.9142 - loss: 0.2285 - val_accuracy: 0.8730 - val_loss: 0.4333\n",
      "Epoch 62/100\n",
      "1875/1875 - 10s - 5ms/step - accuracy: 0.9149 - loss: 0.2312 - val_accuracy: 0.8707 - val_loss: 0.4674\n",
      "Epoch 63/100\n",
      "1875/1875 - 10s - 5ms/step - accuracy: 0.9167 - loss: 0.2268 - val_accuracy: 0.8698 - val_loss: 0.4747\n",
      "Epoch 64/100\n",
      "1875/1875 - 10s - 5ms/step - accuracy: 0.9164 - loss: 0.2259 - val_accuracy: 0.8718 - val_loss: 0.4372\n",
      "Epoch 65/100\n",
      "1875/1875 - 10s - 5ms/step - accuracy: 0.9143 - loss: 0.2285 - val_accuracy: 0.8790 - val_loss: 0.4610\n",
      "Epoch 66/100\n",
      "1875/1875 - 10s - 5ms/step - accuracy: 0.9157 - loss: 0.2226 - val_accuracy: 0.8722 - val_loss: 0.4594\n",
      "Epoch 67/100\n",
      "1875/1875 - 10s - 5ms/step - accuracy: 0.9151 - loss: 0.2271 - val_accuracy: 0.8675 - val_loss: 0.4519\n",
      "Epoch 68/100\n",
      "1875/1875 - 10s - 6ms/step - accuracy: 0.9143 - loss: 0.2263 - val_accuracy: 0.8743 - val_loss: 0.4658\n",
      "Epoch 69/100\n",
      "1875/1875 - 10s - 5ms/step - accuracy: 0.9174 - loss: 0.2221 - val_accuracy: 0.8717 - val_loss: 0.4995\n",
      "Epoch 70/100\n",
      "1875/1875 - 10s - 5ms/step - accuracy: 0.9159 - loss: 0.2262 - val_accuracy: 0.8732 - val_loss: 0.4731\n",
      "Epoch 71/100\n",
      "1875/1875 - 10s - 5ms/step - accuracy: 0.9171 - loss: 0.2244 - val_accuracy: 0.8767 - val_loss: 0.4451\n",
      "Epoch 72/100\n",
      "1875/1875 - 10s - 5ms/step - accuracy: 0.9134 - loss: 0.2328 - val_accuracy: 0.8661 - val_loss: 0.4434\n",
      "Epoch 73/100\n",
      "1875/1875 - 10s - 5ms/step - accuracy: 0.9179 - loss: 0.2201 - val_accuracy: 0.8741 - val_loss: 0.4532\n",
      "Epoch 74/100\n",
      "1875/1875 - 10s - 5ms/step - accuracy: 0.9171 - loss: 0.2209 - val_accuracy: 0.8703 - val_loss: 0.4589\n",
      "Epoch 75/100\n",
      "1875/1875 - 10s - 5ms/step - accuracy: 0.9171 - loss: 0.2194 - val_accuracy: 0.8723 - val_loss: 0.4664\n",
      "Epoch 76/100\n",
      "1875/1875 - 11s - 6ms/step - accuracy: 0.9169 - loss: 0.2216 - val_accuracy: 0.8718 - val_loss: 0.4570\n",
      "Epoch 77/100\n",
      "1875/1875 - 10s - 5ms/step - accuracy: 0.9177 - loss: 0.2199 - val_accuracy: 0.8739 - val_loss: 0.4666\n",
      "Epoch 78/100\n",
      "1875/1875 - 10s - 5ms/step - accuracy: 0.9184 - loss: 0.2202 - val_accuracy: 0.8655 - val_loss: 0.4903\n",
      "Epoch 79/100\n",
      "1875/1875 - 10s - 5ms/step - accuracy: 0.9175 - loss: 0.2194 - val_accuracy: 0.8649 - val_loss: 0.5058\n",
      "Epoch 80/100\n",
      "1875/1875 - 10s - 5ms/step - accuracy: 0.9190 - loss: 0.2173 - val_accuracy: 0.8634 - val_loss: 0.5515\n",
      "Epoch 81/100\n",
      "1875/1875 - 10s - 5ms/step - accuracy: 0.9175 - loss: 0.2220 - val_accuracy: 0.8672 - val_loss: 0.5128\n",
      "Epoch 82/100\n",
      "1875/1875 - 10s - 5ms/step - accuracy: 0.9182 - loss: 0.2203 - val_accuracy: 0.8694 - val_loss: 0.5077\n",
      "Epoch 83/100\n",
      "1875/1875 - 10s - 5ms/step - accuracy: 0.9195 - loss: 0.2173 - val_accuracy: 0.8652 - val_loss: 0.4885\n",
      "Epoch 84/100\n",
      "1875/1875 - 10s - 5ms/step - accuracy: 0.9190 - loss: 0.2200 - val_accuracy: 0.8755 - val_loss: 0.4802\n",
      "Epoch 85/100\n",
      "1875/1875 - 10s - 5ms/step - accuracy: 0.9184 - loss: 0.2185 - val_accuracy: 0.8688 - val_loss: 0.4722\n",
      "Epoch 86/100\n",
      "1875/1875 - 10s - 6ms/step - accuracy: 0.9201 - loss: 0.2158 - val_accuracy: 0.8737 - val_loss: 0.4853\n",
      "Epoch 87/100\n",
      "1875/1875 - 10s - 5ms/step - accuracy: 0.9200 - loss: 0.2157 - val_accuracy: 0.8720 - val_loss: 0.5130\n",
      "Epoch 88/100\n",
      "1875/1875 - 10s - 6ms/step - accuracy: 0.9196 - loss: 0.2153 - val_accuracy: 0.8632 - val_loss: 0.4898\n",
      "Epoch 89/100\n",
      "1875/1875 - 10s - 5ms/step - accuracy: 0.9191 - loss: 0.2204 - val_accuracy: 0.8603 - val_loss: 0.5109\n",
      "Epoch 90/100\n",
      "1875/1875 - 10s - 5ms/step - accuracy: 0.9207 - loss: 0.2141 - val_accuracy: 0.8648 - val_loss: 0.5311\n",
      "Epoch 91/100\n",
      "1875/1875 - 10s - 5ms/step - accuracy: 0.9200 - loss: 0.2152 - val_accuracy: 0.8722 - val_loss: 0.5067\n",
      "Epoch 92/100\n",
      "1875/1875 - 10s - 5ms/step - accuracy: 0.9208 - loss: 0.2159 - val_accuracy: 0.8738 - val_loss: 0.5110\n",
      "Epoch 93/100\n",
      "1875/1875 - 10s - 5ms/step - accuracy: 0.9211 - loss: 0.2119 - val_accuracy: 0.8735 - val_loss: 0.4925\n",
      "Epoch 94/100\n",
      "1875/1875 - 10s - 5ms/step - accuracy: 0.9202 - loss: 0.2137 - val_accuracy: 0.8659 - val_loss: 0.5135\n",
      "Epoch 95/100\n",
      "1875/1875 - 11s - 6ms/step - accuracy: 0.9200 - loss: 0.2161 - val_accuracy: 0.8722 - val_loss: 0.4983\n",
      "Epoch 96/100\n",
      "1875/1875 - 10s - 5ms/step - accuracy: 0.9218 - loss: 0.2105 - val_accuracy: 0.8706 - val_loss: 0.5155\n",
      "Epoch 97/100\n",
      "1875/1875 - 10s - 5ms/step - accuracy: 0.9220 - loss: 0.2094 - val_accuracy: 0.8701 - val_loss: 0.4751\n",
      "Epoch 98/100\n",
      "1875/1875 - 10s - 5ms/step - accuracy: 0.9206 - loss: 0.2114 - val_accuracy: 0.8748 - val_loss: 0.5254\n",
      "Epoch 99/100\n",
      "1875/1875 - 10s - 5ms/step - accuracy: 0.9201 - loss: 0.2149 - val_accuracy: 0.8703 - val_loss: 0.4950\n",
      "Epoch 100/100\n",
      "1875/1875 - 10s - 5ms/step - accuracy: 0.9225 - loss: 0.2062 - val_accuracy: 0.8699 - val_loss: 0.5686\n"
     ]
    }
   ],
   "execution_count": 125
  },
  {
   "metadata": {
    "ExecuteTime": {
     "end_time": "2024-08-19T18:24:12.046267Z",
     "start_time": "2024-08-19T18:24:11.972190Z"
    }
   },
   "cell_type": "code",
   "source": [
    "model.save(\"MultiClassClassification.keras\")\n",
    "plt.plot(history.history[\"loss\"])\n",
    "plt.plot(history.history[\"accuracy\"])"
   ],
   "id": "4ccc421b8126371a",
   "outputs": [
    {
     "data": {
      "text/plain": [
       "[<matplotlib.lines.Line2D at 0x1513a0a60>]"
      ]
     },
     "execution_count": 129,
     "metadata": {},
     "output_type": "execute_result"
    },
    {
     "data": {
      "text/plain": [
       "<Figure size 640x480 with 1 Axes>"
      ],
      "image/png": "[encoded data removed]"
     },
     "metadata": {},
     "output_type": "display_data"
    }
   ],
   "execution_count": 129
  },
  {
   "metadata": {
    "ExecuteTime": {
     "end_time": "2024-08-19T18:25:24.537595Z",
     "start_time": "2024-08-19T18:25:24.522308Z"
    }
   },
   "cell_type": "code",
   "source": "model.summary()",
   "id": "41bff4bc34da42c5",
   "outputs": [
    {
     "data": {
      "text/plain": [
       "\u001B[1mModel: \"sequential_21\"\u001B[0m\n"
      ],
      "text/html": [
       "<pre style=\"white-space:pre;overflow-x:auto;line-height:normal;font-family:Menlo,'DejaVu Sans Mono',consolas,'Courier New',monospace\"><span style=\"font-weight: bold\">Model: \"sequential_21\"</span>\n",
       "</pre>\n"
      ]
     },
     "metadata": {},
     "output_type": "display_data"
    },
    {
     "data": {
      "text/plain": [
       "┏━━━━━━━━━━━━━━━━━━━━━━━━━━━━━━━━━┳━━━━━━━━━━━━━━━━━━━━━━━━┳━━━━━━━━━━━━━━━┓\n",
       "┃\u001B[1m \u001B[0m\u001B[1mLayer (type)                   \u001B[0m\u001B[1m \u001B[0m┃\u001B[1m \u001B[0m\u001B[1mOutput Shape          \u001B[0m\u001B[1m \u001B[0m┃\u001B[1m \u001B[0m\u001B[1m      Param #\u001B[0m\u001B[1m \u001B[0m┃\n",
       "┡━━━━━━━━━━━━━━━━━━━━━━━━━━━━━━━━━╇━━━━━━━━━━━━━━━━━━━━━━━━╇━━━━━━━━━━━━━━━┩\n",
       "│ flatten_21 (\u001B[38;5;33mFlatten\u001B[0m)            │ (\u001B[38;5;45mNone\u001B[0m, \u001B[38;5;34m784\u001B[0m)            │             \u001B[38;5;34m0\u001B[0m │\n",
       "├─────────────────────────────────┼────────────────────────┼───────────────┤\n",
       "│ dense_64 (\u001B[38;5;33mDense\u001B[0m)                │ (\u001B[38;5;45mNone\u001B[0m, \u001B[38;5;34m30\u001B[0m)             │        \u001B[38;5;34m23,550\u001B[0m │\n",
       "├─────────────────────────────────┼────────────────────────┼───────────────┤\n",
       "│ dense_65 (\u001B[38;5;33mDense\u001B[0m)                │ (\u001B[38;5;45mNone\u001B[0m, \u001B[38;5;34m30\u001B[0m)             │           \u001B[38;5;34m930\u001B[0m │\n",
       "├─────────────────────────────────┼────────────────────────┼───────────────┤\n",
       "│ dense_66 (\u001B[38;5;33mDense\u001B[0m)                │ (\u001B[38;5;45mNone\u001B[0m, \u001B[38;5;34m30\u001B[0m)             │           \u001B[38;5;34m930\u001B[0m │\n",
       "├─────────────────────────────────┼────────────────────────┼───────────────┤\n",
       "│ dense_67 (\u001B[38;5;33mDense\u001B[0m)                │ (\u001B[38;5;45mNone\u001B[0m, \u001B[38;5;34m10\u001B[0m)             │           \u001B[38;5;34m310\u001B[0m │\n",
       "└─────────────────────────────────┴────────────────────────┴───────────────┘\n"
      ],
      "text/html": [
       "<pre style=\"white-space:pre;overflow-x:auto;line-height:normal;font-family:Menlo,'DejaVu Sans Mono',consolas,'Courier New',monospace\">┏━━━━━━━━━━━━━━━━━━━━━━━━━━━━━━━━━┳━━━━━━━━━━━━━━━━━━━━━━━━┳━━━━━━━━━━━━━━━┓\n",
       "┃<span style=\"font-weight: bold\"> Layer (type)                    </span>┃<span style=\"font-weight: bold\"> Output Shape           </span>┃<span style=\"font-weight: bold\">       Param # </span>┃\n",
       "┡━━━━━━━━━━━━━━━━━━━━━━━━━━━━━━━━━╇━━━━━━━━━━━━━━━━━━━━━━━━╇━━━━━━━━━━━━━━━┩\n",
       "│ flatten_21 (<span style=\"color: #0087ff; text-decoration-color: #0087ff\">Flatten</span>)            │ (<span style=\"color: #00d7ff; text-decoration-color: #00d7ff\">None</span>, <span style=\"color: #00af00; text-decoration-color: #00af00\">784</span>)            │             <span style=\"color: #00af00; text-decoration-color: #00af00\">0</span> │\n",
       "├─────────────────────────────────┼────────────────────────┼───────────────┤\n",
       "│ dense_64 (<span style=\"color: #0087ff; text-decoration-color: #0087ff\">Dense</span>)                │ (<span style=\"color: #00d7ff; text-decoration-color: #00d7ff\">None</span>, <span style=\"color: #00af00; text-decoration-color: #00af00\">30</span>)             │        <span style=\"color: #00af00; text-decoration-color: #00af00\">23,550</span> │\n",
       "├─────────────────────────────────┼────────────────────────┼───────────────┤\n",
       "│ dense_65 (<span style=\"color: #0087ff; text-decoration-color: #0087ff\">Dense</span>)                │ (<span style=\"color: #00d7ff; text-decoration-color: #00d7ff\">None</span>, <span style=\"color: #00af00; text-decoration-color: #00af00\">30</span>)             │           <span style=\"color: #00af00; text-decoration-color: #00af00\">930</span> │\n",
       "├─────────────────────────────────┼────────────────────────┼───────────────┤\n",
       "│ dense_66 (<span style=\"color: #0087ff; text-decoration-color: #0087ff\">Dense</span>)                │ (<span style=\"color: #00d7ff; text-decoration-color: #00d7ff\">None</span>, <span style=\"color: #00af00; text-decoration-color: #00af00\">30</span>)             │           <span style=\"color: #00af00; text-decoration-color: #00af00\">930</span> │\n",
       "├─────────────────────────────────┼────────────────────────┼───────────────┤\n",
       "│ dense_67 (<span style=\"color: #0087ff; text-decoration-color: #0087ff\">Dense</span>)                │ (<span style=\"color: #00d7ff; text-decoration-color: #00d7ff\">None</span>, <span style=\"color: #00af00; text-decoration-color: #00af00\">10</span>)             │           <span style=\"color: #00af00; text-decoration-color: #00af00\">310</span> │\n",
       "└─────────────────────────────────┴────────────────────────┴───────────────┘\n",
       "</pre>\n"
      ]
     },
     "metadata": {},
     "output_type": "display_data"
    },
    {
     "data": {
      "text/plain": [
       "\u001B[1m Total params: \u001B[0m\u001B[38;5;34m77,162\u001B[0m (301.42 KB)\n"
      ],
      "text/html": [
       "<pre style=\"white-space:pre;overflow-x:auto;line-height:normal;font-family:Menlo,'DejaVu Sans Mono',consolas,'Courier New',monospace\"><span style=\"font-weight: bold\"> Total params: </span><span style=\"color: #00af00; text-decoration-color: #00af00\">77,162</span> (301.42 KB)\n",
       "</pre>\n"
      ]
     },
     "metadata": {},
     "output_type": "display_data"
    },
    {
     "data": {
      "text/plain": [
       "\u001B[1m Trainable params: \u001B[0m\u001B[38;5;34m25,720\u001B[0m (100.47 KB)\n"
      ],
      "text/html": [
       "<pre style=\"white-space:pre;overflow-x:auto;line-height:normal;font-family:Menlo,'DejaVu Sans Mono',consolas,'Courier New',monospace\"><span style=\"font-weight: bold\"> Trainable params: </span><span style=\"color: #00af00; text-decoration-color: #00af00\">25,720</span> (100.47 KB)\n",
       "</pre>\n"
      ]
     },
     "metadata": {},
     "output_type": "display_data"
    },
    {
     "data": {
      "text/plain": [
       "\u001B[1m Non-trainable params: \u001B[0m\u001B[38;5;34m0\u001B[0m (0.00 B)\n"
      ],
      "text/html": [
       "<pre style=\"white-space:pre;overflow-x:auto;line-height:normal;font-family:Menlo,'DejaVu Sans Mono',consolas,'Courier New',monospace\"><span style=\"font-weight: bold\"> Non-trainable params: </span><span style=\"color: #00af00; text-decoration-color: #00af00\">0</span> (0.00 B)\n",
       "</pre>\n"
      ]
     },
     "metadata": {},
     "output_type": "display_data"
    },
    {
     "data": {
      "text/plain": [
       "\u001B[1m Optimizer params: \u001B[0m\u001B[38;5;34m51,442\u001B[0m (200.95 KB)\n"
      ],
      "text/html": [
       "<pre style=\"white-space:pre;overflow-x:auto;line-height:normal;font-family:Menlo,'DejaVu Sans Mono',consolas,'Courier New',monospace\"><span style=\"font-weight: bold\"> Optimizer params: </span><span style=\"color: #00af00; text-decoration-color: #00af00\">51,442</span> (200.95 KB)\n",
       "</pre>\n"
      ]
     },
     "metadata": {},
     "output_type": "display_data"
    }
   ],
   "execution_count": 130
  },
  {
   "metadata": {
    "ExecuteTime": {
     "end_time": "2024-08-19T18:25:26.923301Z",
     "start_time": "2024-08-19T18:25:26.038125Z"
    }
   },
   "cell_type": "code",
   "source": "model.evaluate(norm_test_data, test_labels)",
   "id": "9142db990125ca16",
   "outputs": [
    {
     "name": "stdout",
     "output_type": "stream",
     "text": [
      "\u001B[1m313/313\u001B[0m \u001B[32m━━━━━━━━━━━━━━━━━━━━\u001B[0m\u001B[37m\u001B[0m \u001B[1m1s\u001B[0m 3ms/step - accuracy: 0.8730 - loss: 0.5532\n"
     ]
    },
    {
     "data": {
      "text/plain": [
       "[0.5685662031173706, 0.8698999881744385]"
      ]
     },
     "execution_count": 131,
     "metadata": {},
     "output_type": "execute_result"
    }
   ],
   "execution_count": 131
  },
  {
   "metadata": {
    "ExecuteTime": {
     "end_time": "2024-08-19T18:25:35.570800Z",
     "start_time": "2024-08-19T18:25:34.405327Z"
    }
   },
   "cell_type": "code",
   "source": [
    "y_pred = model.predict(norm_test_data).argmax(axis=1)\n",
    "y_pred"
   ],
   "id": "9a6ee4da047100dc",
   "outputs": [
    {
     "name": "stdout",
     "output_type": "stream",
     "text": [
      "\u001B[1m313/313\u001B[0m \u001B[32m━━━━━━━━━━━━━━━━━━━━\u001B[0m\u001B[37m\u001B[0m \u001B[1m1s\u001B[0m 3ms/step\n"
     ]
    },
    {
     "data": {
      "text/plain": [
       "array([9, 2, 1, ..., 8, 1, 5])"
      ]
     },
     "execution_count": 132,
     "metadata": {},
     "output_type": "execute_result"
    }
   ],
   "execution_count": 132
  },
  {
   "metadata": {
    "ExecuteTime": {
     "end_time": "2024-08-19T18:25:36.919140Z",
     "start_time": "2024-08-19T18:25:36.912514Z"
    }
   },
   "cell_type": "code",
   "source": "confusion_matrix(test_labels,y_pred)",
   "id": "be10af5813707236",
   "outputs": [
    {
     "data": {
      "text/plain": [
       "array([[852,   1,  15,  30,   5,   0,  88,   0,   9,   0],\n",
       "       [  5, 962,   0,  26,   5,   0,   2,   0,   0,   0],\n",
       "       [ 19,   0, 785,   7, 129,   1,  55,   0,   3,   1],\n",
       "       [ 35,   7,  13, 819,  89,   3,  29,   0,   4,   1],\n",
       "       [  1,   1,  79,  12, 861,   0,  40,   0,   6,   0],\n",
       "       [  1,   0,   0,   0,   0, 952,   1,  23,   2,  21],\n",
       "       [164,   1,  83,  21, 110,   0, 606,   0,  15,   0],\n",
       "       [  0,   0,   0,   0,   0,  22,   0, 939,   0,  39],\n",
       "       [  6,   2,   1,   4,   5,   1,   7,   5, 969,   0],\n",
       "       [  0,   0,   0,   1,   0,   8,   1,  36,   0, 954]])"
      ]
     },
     "execution_count": 133,
     "metadata": {},
     "output_type": "execute_result"
    }
   ],
   "execution_count": 133
  },
  {
   "metadata": {
    "ExecuteTime": {
     "end_time": "2024-08-19T14:57:48.237122Z",
     "start_time": "2024-08-19T14:57:48.235859Z"
    }
   },
   "cell_type": "code",
   "source": "",
   "id": "28525fc5988ed519",
   "outputs": [],
   "execution_count": 122
  }
 ],
 "metadata": {
  "kernelspec": {
   "display_name": "Python 3",
   "language": "python",
   "name": "python3"
  },
  "language_info": {
   "codemirror_mode": {
    "name": "ipython",
    "version": 2
   },
   "file_extension": ".py",
   "mimetype": "text/x-python",
   "name": "python",
   "nbconvert_exporter": "python",
   "pygments_lexer": "ipython2",
   "version": "2.7.6"
  }
 },
 "nbformat": 4,
 "nbformat_minor": 5
}
