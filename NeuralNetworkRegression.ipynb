{
 "cells": [
  {
   "metadata": {
    "ExecuteTime": {
     "end_time": "2024-08-18T15:51:59.122259Z",
     "start_time": "2024-08-18T15:51:56.748122Z"
    }
   },
   "cell_type": "code",
   "source": [
    "import tensorflow as tf\n",
    "import matplotlib.pyplot as plt\n",
    "import numpy as np\n",
    "import pandas as pd\n",
    "from sklearn.model_selection import train_test_split\n",
    "from sklearn.preprocessing import MinMaxScaler , OneHotEncoder\n",
    "from sklearn.compose import make_column_transformer"
   ],
   "id": "72e94959c1082204",
   "outputs": [],
   "execution_count": 2
  },
  {
   "metadata": {
    "ExecuteTime": {
     "end_time": "2024-08-18T15:51:59.124789Z",
     "start_time": "2024-08-18T15:51:59.123121Z"
    }
   },
   "cell_type": "code",
   "source": [
    "print(\"Tensorflow version =\",tf.__version__)\n",
    "print(\"Pandas version =\",pd.__version__)\n",
    "print(\"Numpy version =\",np.version.version)"
   ],
   "id": "c33a2961bcaa6933",
   "outputs": [
    {
     "name": "stdout",
     "output_type": "stream",
     "text": [
      "Tensorflow version = 2.16.2\n",
      "Pandas version = 2.2.2\n",
      "Numpy version = 1.26.4\n"
     ]
    }
   ],
   "execution_count": 3
  },
  {
   "metadata": {
    "ExecuteTime": {
     "end_time": "2024-08-18T15:51:59.136710Z",
     "start_time": "2024-08-18T15:51:59.125428Z"
    }
   },
   "cell_type": "code",
   "source": [
    "data = pd.read_csv(\"insurance.csv\")\n",
    "data.head()"
   ],
   "id": "d08b55b4a34f40a9",
   "outputs": [
    {
     "data": {
      "text/plain": [
       "   age     sex     bmi  children smoker     region      charges\n",
       "0   19  female  27.900         0    yes  southwest  16884.92400\n",
       "1   18    male  33.770         1     no  southeast   1725.55230\n",
       "2   28    male  33.000         3     no  southeast   4449.46200\n",
       "3   33    male  22.705         0     no  northwest  21984.47061\n",
       "4   32    male  28.880         0     no  northwest   3866.85520"
      ],
      "text/html": [
       "<div>\n",
       "<style scoped>\n",
       "    .dataframe tbody tr th:only-of-type {\n",
       "        vertical-align: middle;\n",
       "    }\n",
       "\n",
       "    .dataframe tbody tr th {\n",
       "        vertical-align: top;\n",
       "    }\n",
       "\n",
       "    .dataframe thead th {\n",
       "        text-align: right;\n",
       "    }\n",
       "</style>\n",
       "<table border=\"1\" class=\"dataframe\">\n",
       "  <thead>\n",
       "    <tr style=\"text-align: right;\">\n",
       "      <th></th>\n",
       "      <th>age</th>\n",
       "      <th>sex</th>\n",
       "      <th>bmi</th>\n",
       "      <th>children</th>\n",
       "      <th>smoker</th>\n",
       "      <th>region</th>\n",
       "      <th>charges</th>\n",
       "    </tr>\n",
       "  </thead>\n",
       "  <tbody>\n",
       "    <tr>\n",
       "      <th>0</th>\n",
       "      <td>19</td>\n",
       "      <td>female</td>\n",
       "      <td>27.900</td>\n",
       "      <td>0</td>\n",
       "      <td>yes</td>\n",
       "      <td>southwest</td>\n",
       "      <td>16884.92400</td>\n",
       "    </tr>\n",
       "    <tr>\n",
       "      <th>1</th>\n",
       "      <td>18</td>\n",
       "      <td>male</td>\n",
       "      <td>33.770</td>\n",
       "      <td>1</td>\n",
       "      <td>no</td>\n",
       "      <td>southeast</td>\n",
       "      <td>1725.55230</td>\n",
       "    </tr>\n",
       "    <tr>\n",
       "      <th>2</th>\n",
       "      <td>28</td>\n",
       "      <td>male</td>\n",
       "      <td>33.000</td>\n",
       "      <td>3</td>\n",
       "      <td>no</td>\n",
       "      <td>southeast</td>\n",
       "      <td>4449.46200</td>\n",
       "    </tr>\n",
       "    <tr>\n",
       "      <th>3</th>\n",
       "      <td>33</td>\n",
       "      <td>male</td>\n",
       "      <td>22.705</td>\n",
       "      <td>0</td>\n",
       "      <td>no</td>\n",
       "      <td>northwest</td>\n",
       "      <td>21984.47061</td>\n",
       "    </tr>\n",
       "    <tr>\n",
       "      <th>4</th>\n",
       "      <td>32</td>\n",
       "      <td>male</td>\n",
       "      <td>28.880</td>\n",
       "      <td>0</td>\n",
       "      <td>no</td>\n",
       "      <td>northwest</td>\n",
       "      <td>3866.85520</td>\n",
       "    </tr>\n",
       "  </tbody>\n",
       "</table>\n",
       "</div>"
      ]
     },
     "execution_count": 4,
     "metadata": {},
     "output_type": "execute_result"
    }
   ],
   "execution_count": 4
  },
  {
   "metadata": {
    "ExecuteTime": {
     "end_time": "2024-08-18T16:01:48.804154Z",
     "start_time": "2024-08-18T16:01:48.788604Z"
    }
   },
   "cell_type": "code",
   "source": [
    "ct = make_column_transformer(\n",
    "    (MinMaxScaler(), [\"age\",\"bmi\",\"children\"]),\n",
    "    (OneHotEncoder(), [\"sex\",\"smoker\",\"region\"]),\n",
    ")\n",
    "data_train, data_test = train_test_split(data, test_size=0.2)\n",
    "\n",
    "x_train_data = data_train.drop(\"charges\", axis=1)\n",
    "y_train_data = data_train[\"charges\"]\n",
    "x_test_data = data_test.drop(\"charges\", axis=1)\n",
    "y_test_data = data_test[\"charges\"]\n",
    "ct.fit(x_train_data)\n",
    "x_train_transformed = ct.transform(x_train_data)\n",
    "x_test_transformed = ct.transform(x_test_data)\n"
   ],
   "id": "cc8ccfa7b049482d",
   "outputs": [],
   "execution_count": 19
  },
  {
   "metadata": {
    "ExecuteTime": {
     "end_time": "2024-08-18T16:08:34.366731Z",
     "start_time": "2024-08-18T16:08:34.352992Z"
    }
   },
   "cell_type": "code",
   "source": [
    "model = tf.keras.Sequential([\n",
    "    tf.keras.layers.Dense(11,name='hidden_layer0'),\n",
    "    tf.keras.layers.Dense(500,name='hidden_layer1'),\n",
    "    tf.keras.layers.Dense(500,name='hidden_layer2'),\n",
    "    tf.keras.layers.Dense(500,name='hidden_layer6'),\n",
    "    tf.keras.layers.Dense(10,name='hidden_layer7')\n",
    "])\n",
    "\n",
    "model.compile(loss=tf.keras.losses.MeanAbsoluteError() , optimizer=tf.keras.optimizers.Adam(learning_rate = 0.00005), metrics=[\"mae\"])"
   ],
   "id": "9d81f65cf051c4c1",
   "outputs": [],
   "execution_count": 41
  },
  {
   "metadata": {
    "ExecuteTime": {
     "end_time": "2024-08-18T16:09:23.761917Z",
     "start_time": "2024-08-18T16:08:34.683481Z"
    }
   },
   "cell_type": "code",
   "source": "history = model.fit(x_train_transformed, y_train_data, epochs=200, verbose=2)",
   "id": "5e0734a522113c00",
   "outputs": [
    {
     "name": "stdout",
     "output_type": "stream",
     "text": [
      "Epoch 1/200\n",
      "34/34 - 1s - 44ms/step - loss: 13022.2041 - mae: 13022.2041\n",
      "Epoch 2/200\n",
      "34/34 - 0s - 7ms/step - loss: 13020.4004 - mae: 13020.4004\n",
      "Epoch 3/200\n",
      "34/34 - 0s - 7ms/step - loss: 13014.9023 - mae: 13014.9023\n",
      "Epoch 4/200\n",
      "34/34 - 0s - 7ms/step - loss: 12999.7002 - mae: 12999.7002\n",
      "Epoch 5/200\n",
      "34/34 - 0s - 7ms/step - loss: 12963.5527 - mae: 12963.5527\n",
      "Epoch 6/200\n",
      "34/34 - 0s - 7ms/step - loss: 12888.8213 - mae: 12888.8213\n",
      "Epoch 7/200\n",
      "34/34 - 0s - 7ms/step - loss: 12749.4805 - mae: 12749.4805\n",
      "Epoch 8/200\n",
      "34/34 - 0s - 7ms/step - loss: 12510.5771 - mae: 12510.5771\n",
      "Epoch 9/200\n",
      "34/34 - 0s - 7ms/step - loss: 12127.3359 - mae: 12127.3359\n",
      "Epoch 10/200\n",
      "34/34 - 0s - 7ms/step - loss: 11544.7412 - mae: 11544.7412\n",
      "Epoch 11/200\n",
      "34/34 - 0s - 7ms/step - loss: 10769.8057 - mae: 10769.8057\n",
      "Epoch 12/200\n",
      "34/34 - 0s - 7ms/step - loss: 9953.8955 - mae: 9953.8955\n",
      "Epoch 13/200\n",
      "34/34 - 0s - 7ms/step - loss: 9175.8398 - mae: 9175.8398\n",
      "Epoch 14/200\n",
      "34/34 - 0s - 7ms/step - loss: 8597.1758 - mae: 8597.1758\n",
      "Epoch 15/200\n",
      "34/34 - 0s - 7ms/step - loss: 8236.1143 - mae: 8236.1143\n",
      "Epoch 16/200\n",
      "34/34 - 0s - 7ms/step - loss: 8076.1055 - mae: 8076.1055\n",
      "Epoch 17/200\n",
      "34/34 - 0s - 7ms/step - loss: 8009.6792 - mae: 8009.6792\n",
      "Epoch 18/200\n",
      "34/34 - 0s - 7ms/step - loss: 7972.8354 - mae: 7972.8354\n",
      "Epoch 19/200\n",
      "34/34 - 0s - 7ms/step - loss: 7942.8315 - mae: 7942.8315\n",
      "Epoch 20/200\n",
      "34/34 - 0s - 7ms/step - loss: 7908.6226 - mae: 7908.6226\n",
      "Epoch 21/200\n",
      "34/34 - 0s - 7ms/step - loss: 7878.4907 - mae: 7878.4907\n",
      "Epoch 22/200\n",
      "34/34 - 0s - 7ms/step - loss: 7848.7412 - mae: 7848.7412\n",
      "Epoch 23/200\n",
      "34/34 - 0s - 7ms/step - loss: 7819.2310 - mae: 7819.2310\n",
      "Epoch 24/200\n",
      "34/34 - 0s - 7ms/step - loss: 7789.7427 - mae: 7789.7427\n",
      "Epoch 25/200\n",
      "34/34 - 0s - 7ms/step - loss: 7765.2588 - mae: 7765.2588\n",
      "Epoch 26/200\n",
      "34/34 - 0s - 7ms/step - loss: 7732.4678 - mae: 7732.4678\n",
      "Epoch 27/200\n",
      "34/34 - 0s - 7ms/step - loss: 7703.9185 - mae: 7703.9185\n",
      "Epoch 28/200\n",
      "34/34 - 0s - 7ms/step - loss: 7676.6567 - mae: 7676.6567\n",
      "Epoch 29/200\n",
      "34/34 - 0s - 7ms/step - loss: 7646.6362 - mae: 7646.6362\n",
      "Epoch 30/200\n",
      "34/34 - 0s - 7ms/step - loss: 7616.8291 - mae: 7616.8291\n",
      "Epoch 31/200\n",
      "34/34 - 0s - 7ms/step - loss: 7586.6240 - mae: 7586.6240\n",
      "Epoch 32/200\n",
      "34/34 - 0s - 7ms/step - loss: 7558.3657 - mae: 7558.3657\n",
      "Epoch 33/200\n",
      "34/34 - 0s - 7ms/step - loss: 7525.6260 - mae: 7525.6260\n",
      "Epoch 34/200\n",
      "34/34 - 0s - 7ms/step - loss: 7492.4458 - mae: 7492.4458\n",
      "Epoch 35/200\n",
      "34/34 - 0s - 7ms/step - loss: 7461.4639 - mae: 7461.4639\n",
      "Epoch 36/200\n",
      "34/34 - 0s - 7ms/step - loss: 7427.5439 - mae: 7427.5439\n",
      "Epoch 37/200\n",
      "34/34 - 0s - 7ms/step - loss: 7393.6748 - mae: 7393.6748\n",
      "Epoch 38/200\n",
      "34/34 - 0s - 7ms/step - loss: 7357.9639 - mae: 7357.9639\n",
      "Epoch 39/200\n",
      "34/34 - 0s - 7ms/step - loss: 7322.3149 - mae: 7322.3149\n",
      "Epoch 40/200\n",
      "34/34 - 0s - 7ms/step - loss: 7286.5215 - mae: 7286.5215\n",
      "Epoch 41/200\n",
      "34/34 - 0s - 7ms/step - loss: 7249.1987 - mae: 7249.1987\n",
      "Epoch 42/200\n",
      "34/34 - 0s - 7ms/step - loss: 7210.8345 - mae: 7210.8345\n",
      "Epoch 43/200\n",
      "34/34 - 0s - 7ms/step - loss: 7171.0718 - mae: 7171.0718\n",
      "Epoch 44/200\n",
      "34/34 - 0s - 7ms/step - loss: 7131.0762 - mae: 7131.0762\n",
      "Epoch 45/200\n",
      "34/34 - 0s - 7ms/step - loss: 7089.4453 - mae: 7089.4453\n",
      "Epoch 46/200\n",
      "34/34 - 0s - 7ms/step - loss: 7045.5557 - mae: 7045.5557\n",
      "Epoch 47/200\n",
      "34/34 - 0s - 7ms/step - loss: 6999.4575 - mae: 6999.4575\n",
      "Epoch 48/200\n",
      "34/34 - 0s - 7ms/step - loss: 6953.5923 - mae: 6953.5923\n",
      "Epoch 49/200\n",
      "34/34 - 0s - 7ms/step - loss: 6907.0029 - mae: 6907.0029\n",
      "Epoch 50/200\n",
      "34/34 - 0s - 7ms/step - loss: 6860.6968 - mae: 6860.6968\n",
      "Epoch 51/200\n",
      "34/34 - 0s - 7ms/step - loss: 6798.8076 - mae: 6798.8076\n",
      "Epoch 52/200\n",
      "34/34 - 0s - 7ms/step - loss: 6745.3911 - mae: 6745.3911\n",
      "Epoch 53/200\n",
      "34/34 - 0s - 8ms/step - loss: 6688.0215 - mae: 6688.0215\n",
      "Epoch 54/200\n",
      "34/34 - 0s - 7ms/step - loss: 6627.1328 - mae: 6627.1328\n",
      "Epoch 55/200\n",
      "34/34 - 0s - 7ms/step - loss: 6564.1401 - mae: 6564.1401\n",
      "Epoch 56/200\n",
      "34/34 - 0s - 7ms/step - loss: 6497.3936 - mae: 6497.3936\n",
      "Epoch 57/200\n",
      "34/34 - 0s - 7ms/step - loss: 6425.7451 - mae: 6425.7451\n",
      "Epoch 58/200\n",
      "34/34 - 0s - 7ms/step - loss: 6350.7661 - mae: 6350.7661\n",
      "Epoch 59/200\n",
      "34/34 - 0s - 7ms/step - loss: 6275.2871 - mae: 6275.2871\n",
      "Epoch 60/200\n",
      "34/34 - 0s - 7ms/step - loss: 6192.1274 - mae: 6192.1274\n",
      "Epoch 61/200\n",
      "34/34 - 0s - 7ms/step - loss: 6099.5962 - mae: 6099.5962\n",
      "Epoch 62/200\n",
      "34/34 - 0s - 7ms/step - loss: 6007.3242 - mae: 6007.3242\n",
      "Epoch 63/200\n",
      "34/34 - 0s - 7ms/step - loss: 5907.7944 - mae: 5907.7944\n",
      "Epoch 64/200\n",
      "34/34 - 0s - 7ms/step - loss: 5801.1318 - mae: 5801.1318\n",
      "Epoch 65/200\n",
      "34/34 - 0s - 7ms/step - loss: 5685.1807 - mae: 5685.1807\n",
      "Epoch 66/200\n",
      "34/34 - 0s - 7ms/step - loss: 5568.3564 - mae: 5568.3564\n",
      "Epoch 67/200\n",
      "34/34 - 0s - 7ms/step - loss: 5444.5630 - mae: 5444.5630\n",
      "Epoch 68/200\n",
      "34/34 - 0s - 7ms/step - loss: 5324.9175 - mae: 5324.9175\n",
      "Epoch 69/200\n",
      "34/34 - 0s - 7ms/step - loss: 5207.3271 - mae: 5207.3271\n",
      "Epoch 70/200\n",
      "34/34 - 0s - 7ms/step - loss: 5093.6318 - mae: 5093.6318\n",
      "Epoch 71/200\n",
      "34/34 - 0s - 7ms/step - loss: 4984.4570 - mae: 4984.4570\n",
      "Epoch 72/200\n",
      "34/34 - 0s - 7ms/step - loss: 4873.6201 - mae: 4873.6201\n",
      "Epoch 73/200\n",
      "34/34 - 0s - 7ms/step - loss: 4764.8169 - mae: 4764.8169\n",
      "Epoch 74/200\n",
      "34/34 - 0s - 7ms/step - loss: 4659.2725 - mae: 4659.2725\n",
      "Epoch 75/200\n",
      "34/34 - 0s - 7ms/step - loss: 4554.2939 - mae: 4554.2939\n",
      "Epoch 76/200\n",
      "34/34 - 0s - 7ms/step - loss: 4456.2852 - mae: 4456.2852\n",
      "Epoch 77/200\n",
      "34/34 - 0s - 7ms/step - loss: 4365.7202 - mae: 4365.7202\n",
      "Epoch 78/200\n",
      "34/34 - 0s - 7ms/step - loss: 4279.5625 - mae: 4279.5625\n",
      "Epoch 79/200\n",
      "34/34 - 0s - 7ms/step - loss: 4195.1714 - mae: 4195.1714\n",
      "Epoch 80/200\n",
      "34/34 - 0s - 7ms/step - loss: 4120.8330 - mae: 4120.8330\n",
      "Epoch 81/200\n",
      "34/34 - 0s - 9ms/step - loss: 4055.9233 - mae: 4055.9233\n",
      "Epoch 82/200\n",
      "34/34 - 0s - 11ms/step - loss: 3995.6765 - mae: 3995.6765\n",
      "Epoch 83/200\n",
      "34/34 - 0s - 7ms/step - loss: 3937.5710 - mae: 3937.5710\n",
      "Epoch 84/200\n",
      "34/34 - 0s - 7ms/step - loss: 3887.5234 - mae: 3887.5234\n",
      "Epoch 85/200\n",
      "34/34 - 0s - 7ms/step - loss: 3838.4614 - mae: 3838.4614\n",
      "Epoch 86/200\n",
      "34/34 - 0s - 7ms/step - loss: 3802.5632 - mae: 3802.5632\n",
      "Epoch 87/200\n",
      "34/34 - 0s - 7ms/step - loss: 3767.2375 - mae: 3767.2375\n",
      "Epoch 88/200\n",
      "34/34 - 0s - 10ms/step - loss: 3743.6011 - mae: 3743.6011\n",
      "Epoch 89/200\n",
      "34/34 - 0s - 7ms/step - loss: 3725.4824 - mae: 3725.4824\n",
      "Epoch 90/200\n",
      "34/34 - 0s - 7ms/step - loss: 3705.6841 - mae: 3705.6841\n",
      "Epoch 91/200\n",
      "34/34 - 0s - 7ms/step - loss: 3699.7476 - mae: 3699.7476\n",
      "Epoch 92/200\n",
      "34/34 - 0s - 7ms/step - loss: 3677.5515 - mae: 3677.5515\n",
      "Epoch 93/200\n",
      "34/34 - 0s - 7ms/step - loss: 3668.1194 - mae: 3668.1194\n",
      "Epoch 94/200\n",
      "34/34 - 0s - 8ms/step - loss: 3657.6067 - mae: 3657.6067\n",
      "Epoch 95/200\n",
      "34/34 - 0s - 7ms/step - loss: 3646.3706 - mae: 3646.3706\n",
      "Epoch 96/200\n",
      "34/34 - 0s - 7ms/step - loss: 3637.6326 - mae: 3637.6326\n",
      "Epoch 97/200\n",
      "34/34 - 0s - 7ms/step - loss: 3629.9111 - mae: 3629.9111\n",
      "Epoch 98/200\n",
      "34/34 - 0s - 7ms/step - loss: 3623.0408 - mae: 3623.0408\n",
      "Epoch 99/200\n",
      "34/34 - 0s - 7ms/step - loss: 3615.6365 - mae: 3615.6365\n",
      "Epoch 100/200\n",
      "34/34 - 0s - 7ms/step - loss: 3608.1948 - mae: 3608.1948\n",
      "Epoch 101/200\n",
      "34/34 - 0s - 7ms/step - loss: 3602.8169 - mae: 3602.8169\n",
      "Epoch 102/200\n",
      "34/34 - 0s - 7ms/step - loss: 3597.6206 - mae: 3597.6206\n",
      "Epoch 103/200\n",
      "34/34 - 0s - 7ms/step - loss: 3593.5928 - mae: 3593.5928\n",
      "Epoch 104/200\n",
      "34/34 - 0s - 7ms/step - loss: 3586.7456 - mae: 3586.7456\n",
      "Epoch 105/200\n",
      "34/34 - 0s - 7ms/step - loss: 3583.4973 - mae: 3583.4973\n",
      "Epoch 106/200\n",
      "34/34 - 0s - 7ms/step - loss: 3578.0950 - mae: 3578.0950\n",
      "Epoch 107/200\n",
      "34/34 - 0s - 7ms/step - loss: 3574.2769 - mae: 3574.2769\n",
      "Epoch 108/200\n",
      "34/34 - 0s - 7ms/step - loss: 3573.5735 - mae: 3573.5735\n",
      "Epoch 109/200\n",
      "34/34 - 0s - 7ms/step - loss: 3564.0872 - mae: 3564.0872\n",
      "Epoch 110/200\n",
      "34/34 - 0s - 7ms/step - loss: 3562.4136 - mae: 3562.4136\n",
      "Epoch 111/200\n",
      "34/34 - 0s - 7ms/step - loss: 3557.6470 - mae: 3557.6470\n",
      "Epoch 112/200\n",
      "34/34 - 0s - 7ms/step - loss: 3553.6118 - mae: 3553.6118\n",
      "Epoch 113/200\n",
      "34/34 - 0s - 7ms/step - loss: 3551.4441 - mae: 3551.4441\n",
      "Epoch 114/200\n",
      "34/34 - 0s - 7ms/step - loss: 3549.2661 - mae: 3549.2661\n",
      "Epoch 115/200\n",
      "34/34 - 0s - 7ms/step - loss: 3545.7942 - mae: 3545.7942\n",
      "Epoch 116/200\n",
      "34/34 - 0s - 7ms/step - loss: 3543.4622 - mae: 3543.4622\n",
      "Epoch 117/200\n",
      "34/34 - 0s - 7ms/step - loss: 3540.3450 - mae: 3540.3450\n",
      "Epoch 118/200\n",
      "34/34 - 0s - 7ms/step - loss: 3538.6267 - mae: 3538.6267\n",
      "Epoch 119/200\n",
      "34/34 - 0s - 7ms/step - loss: 3534.4902 - mae: 3534.4902\n",
      "Epoch 120/200\n",
      "34/34 - 0s - 7ms/step - loss: 3532.9275 - mae: 3532.9275\n",
      "Epoch 121/200\n",
      "34/34 - 0s - 8ms/step - loss: 3530.0051 - mae: 3530.0051\n",
      "Epoch 122/200\n",
      "34/34 - 0s - 7ms/step - loss: 3529.3840 - mae: 3529.3840\n",
      "Epoch 123/200\n",
      "34/34 - 0s - 7ms/step - loss: 3525.8125 - mae: 3525.8125\n",
      "Epoch 124/200\n",
      "34/34 - 0s - 7ms/step - loss: 3525.5940 - mae: 3525.5940\n",
      "Epoch 125/200\n",
      "34/34 - 0s - 7ms/step - loss: 3518.2217 - mae: 3518.2217\n",
      "Epoch 126/200\n",
      "34/34 - 0s - 7ms/step - loss: 3518.1331 - mae: 3518.1331\n",
      "Epoch 127/200\n",
      "34/34 - 0s - 7ms/step - loss: 3521.1790 - mae: 3521.1790\n",
      "Epoch 128/200\n",
      "34/34 - 0s - 7ms/step - loss: 3512.2156 - mae: 3512.2156\n",
      "Epoch 129/200\n",
      "34/34 - 0s - 7ms/step - loss: 3511.2722 - mae: 3511.2722\n",
      "Epoch 130/200\n",
      "34/34 - 0s - 7ms/step - loss: 3508.3369 - mae: 3508.3369\n",
      "Epoch 131/200\n",
      "34/34 - 0s - 8ms/step - loss: 3505.6787 - mae: 3505.6787\n",
      "Epoch 132/200\n",
      "34/34 - 0s - 7ms/step - loss: 3506.0862 - mae: 3506.0862\n",
      "Epoch 133/200\n",
      "34/34 - 0s - 7ms/step - loss: 3503.4961 - mae: 3503.4961\n",
      "Epoch 134/200\n",
      "34/34 - 0s - 7ms/step - loss: 3499.6099 - mae: 3499.6099\n",
      "Epoch 135/200\n",
      "34/34 - 0s - 7ms/step - loss: 3496.7656 - mae: 3496.7656\n",
      "Epoch 136/200\n",
      "34/34 - 0s - 7ms/step - loss: 3494.7395 - mae: 3494.7395\n",
      "Epoch 137/200\n",
      "34/34 - 0s - 7ms/step - loss: 3492.2507 - mae: 3492.2507\n",
      "Epoch 138/200\n",
      "34/34 - 0s - 8ms/step - loss: 3490.4055 - mae: 3490.4055\n",
      "Epoch 139/200\n",
      "34/34 - 0s - 7ms/step - loss: 3487.6021 - mae: 3487.6021\n",
      "Epoch 140/200\n",
      "34/34 - 0s - 7ms/step - loss: 3486.6663 - mae: 3486.6663\n",
      "Epoch 141/200\n",
      "34/34 - 0s - 7ms/step - loss: 3486.0886 - mae: 3486.0886\n",
      "Epoch 142/200\n",
      "34/34 - 0s - 7ms/step - loss: 3482.3811 - mae: 3482.3811\n",
      "Epoch 143/200\n",
      "34/34 - 0s - 7ms/step - loss: 3478.6316 - mae: 3478.6316\n",
      "Epoch 144/200\n",
      "34/34 - 0s - 7ms/step - loss: 3475.6086 - mae: 3475.6086\n",
      "Epoch 145/200\n",
      "34/34 - 0s - 7ms/step - loss: 3477.3191 - mae: 3477.3191\n",
      "Epoch 146/200\n",
      "34/34 - 0s - 7ms/step - loss: 3470.3633 - mae: 3470.3633\n",
      "Epoch 147/200\n",
      "34/34 - 0s - 7ms/step - loss: 3468.5298 - mae: 3468.5298\n",
      "Epoch 148/200\n",
      "34/34 - 0s - 7ms/step - loss: 3465.6089 - mae: 3465.6089\n",
      "Epoch 149/200\n",
      "34/34 - 0s - 7ms/step - loss: 3463.7622 - mae: 3463.7622\n",
      "Epoch 150/200\n",
      "34/34 - 0s - 7ms/step - loss: 3460.7302 - mae: 3460.7302\n",
      "Epoch 151/200\n",
      "34/34 - 0s - 7ms/step - loss: 3460.1702 - mae: 3460.1702\n",
      "Epoch 152/200\n",
      "34/34 - 0s - 7ms/step - loss: 3460.3149 - mae: 3460.3149\n",
      "Epoch 153/200\n",
      "34/34 - 0s - 7ms/step - loss: 3455.2908 - mae: 3455.2908\n",
      "Epoch 154/200\n",
      "34/34 - 0s - 7ms/step - loss: 3452.4412 - mae: 3452.4412\n",
      "Epoch 155/200\n",
      "34/34 - 0s - 7ms/step - loss: 3449.8162 - mae: 3449.8162\n",
      "Epoch 156/200\n",
      "34/34 - 0s - 7ms/step - loss: 3446.3179 - mae: 3446.3179\n",
      "Epoch 157/200\n",
      "34/34 - 0s - 7ms/step - loss: 3447.6538 - mae: 3447.6538\n",
      "Epoch 158/200\n",
      "34/34 - 0s - 7ms/step - loss: 3445.7078 - mae: 3445.7078\n",
      "Epoch 159/200\n",
      "34/34 - 0s - 7ms/step - loss: 3440.9497 - mae: 3440.9497\n",
      "Epoch 160/200\n",
      "34/34 - 0s - 7ms/step - loss: 3437.7991 - mae: 3437.7991\n",
      "Epoch 161/200\n",
      "34/34 - 0s - 7ms/step - loss: 3433.5002 - mae: 3433.5002\n",
      "Epoch 162/200\n",
      "34/34 - 0s - 7ms/step - loss: 3433.7646 - mae: 3433.7646\n",
      "Epoch 163/200\n",
      "34/34 - 0s - 7ms/step - loss: 3430.0664 - mae: 3430.0664\n",
      "Epoch 164/200\n",
      "34/34 - 0s - 7ms/step - loss: 3425.8516 - mae: 3425.8516\n",
      "Epoch 165/200\n",
      "34/34 - 0s - 7ms/step - loss: 3424.1453 - mae: 3424.1453\n",
      "Epoch 166/200\n",
      "34/34 - 0s - 7ms/step - loss: 3421.2498 - mae: 3421.2498\n",
      "Epoch 167/200\n",
      "34/34 - 0s - 7ms/step - loss: 3420.6887 - mae: 3420.6887\n",
      "Epoch 168/200\n",
      "34/34 - 0s - 7ms/step - loss: 3415.8782 - mae: 3415.8782\n",
      "Epoch 169/200\n",
      "34/34 - 0s - 7ms/step - loss: 3412.7820 - mae: 3412.7820\n",
      "Epoch 170/200\n",
      "34/34 - 0s - 7ms/step - loss: 3408.3201 - mae: 3408.3201\n",
      "Epoch 171/200\n",
      "34/34 - 0s - 7ms/step - loss: 3407.4600 - mae: 3407.4600\n",
      "Epoch 172/200\n",
      "34/34 - 0s - 7ms/step - loss: 3405.8572 - mae: 3405.8572\n",
      "Epoch 173/200\n",
      "34/34 - 0s - 7ms/step - loss: 3401.5403 - mae: 3401.5403\n",
      "Epoch 174/200\n",
      "34/34 - 0s - 8ms/step - loss: 3397.7949 - mae: 3397.7949\n",
      "Epoch 175/200\n",
      "34/34 - 0s - 7ms/step - loss: 3394.2739 - mae: 3394.2739\n",
      "Epoch 176/200\n",
      "34/34 - 0s - 7ms/step - loss: 3390.7661 - mae: 3390.7661\n",
      "Epoch 177/200\n",
      "34/34 - 0s - 8ms/step - loss: 3391.3289 - mae: 3391.3289\n",
      "Epoch 178/200\n",
      "34/34 - 0s - 8ms/step - loss: 3386.0842 - mae: 3386.0842\n",
      "Epoch 179/200\n",
      "34/34 - 0s - 7ms/step - loss: 3387.4502 - mae: 3387.4502\n",
      "Epoch 180/200\n",
      "34/34 - 0s - 7ms/step - loss: 3382.3159 - mae: 3382.3159\n",
      "Epoch 181/200\n",
      "34/34 - 0s - 7ms/step - loss: 3379.2661 - mae: 3379.2661\n",
      "Epoch 182/200\n",
      "34/34 - 0s - 7ms/step - loss: 3380.2715 - mae: 3380.2715\n",
      "Epoch 183/200\n",
      "34/34 - 0s - 7ms/step - loss: 3378.2600 - mae: 3378.2600\n",
      "Epoch 184/200\n",
      "34/34 - 0s - 7ms/step - loss: 3372.3599 - mae: 3372.3599\n",
      "Epoch 185/200\n",
      "34/34 - 0s - 7ms/step - loss: 3373.5684 - mae: 3373.5684\n",
      "Epoch 186/200\n",
      "34/34 - 0s - 7ms/step - loss: 3370.9800 - mae: 3370.9800\n",
      "Epoch 187/200\n",
      "34/34 - 0s - 7ms/step - loss: 3366.8892 - mae: 3366.8892\n",
      "Epoch 188/200\n",
      "34/34 - 0s - 7ms/step - loss: 3365.8098 - mae: 3365.8098\n",
      "Epoch 189/200\n",
      "34/34 - 0s - 7ms/step - loss: 3362.9165 - mae: 3362.9165\n",
      "Epoch 190/200\n",
      "34/34 - 0s - 7ms/step - loss: 3363.3081 - mae: 3363.3081\n",
      "Epoch 191/200\n",
      "34/34 - 0s - 7ms/step - loss: 3358.3127 - mae: 3358.3127\n",
      "Epoch 192/200\n",
      "34/34 - 0s - 7ms/step - loss: 3356.0645 - mae: 3356.0645\n",
      "Epoch 193/200\n",
      "34/34 - 0s - 7ms/step - loss: 3353.9453 - mae: 3353.9453\n",
      "Epoch 194/200\n",
      "34/34 - 0s - 7ms/step - loss: 3353.6118 - mae: 3353.6118\n",
      "Epoch 195/200\n",
      "34/34 - 0s - 7ms/step - loss: 3351.7310 - mae: 3351.7310\n",
      "Epoch 196/200\n",
      "34/34 - 0s - 7ms/step - loss: 3347.4302 - mae: 3347.4302\n",
      "Epoch 197/200\n",
      "34/34 - 0s - 7ms/step - loss: 3346.0767 - mae: 3346.0767\n",
      "Epoch 198/200\n",
      "34/34 - 0s - 7ms/step - loss: 3353.0967 - mae: 3353.0967\n",
      "Epoch 199/200\n",
      "34/34 - 0s - 7ms/step - loss: 3341.2463 - mae: 3341.2463\n",
      "Epoch 200/200\n",
      "34/34 - 0s - 7ms/step - loss: 3342.3635 - mae: 3342.3635\n"
     ]
    }
   ],
   "execution_count": 42
  },
  {
   "metadata": {
    "ExecuteTime": {
     "end_time": "2024-08-18T16:09:23.769892Z",
     "start_time": "2024-08-18T16:09:23.762959Z"
    }
   },
   "cell_type": "code",
   "source": "model.summary()",
   "id": "15a71dd18ed2b37f",
   "outputs": [
    {
     "data": {
      "text/plain": [
       "\u001B[1mModel: \"sequential_6\"\u001B[0m\n"
      ],
      "text/html": [
       "<pre style=\"white-space:pre;overflow-x:auto;line-height:normal;font-family:Menlo,'DejaVu Sans Mono',consolas,'Courier New',monospace\"><span style=\"font-weight: bold\">Model: \"sequential_6\"</span>\n",
       "</pre>\n"
      ]
     },
     "metadata": {},
     "output_type": "display_data"
    },
    {
     "data": {
      "text/plain": [
       "┏━━━━━━━━━━━━━━━━━━━━━━━━━━━━━━━━━┳━━━━━━━━━━━━━━━━━━━━━━━━┳━━━━━━━━━━━━━━━┓\n",
       "┃\u001B[1m \u001B[0m\u001B[1mLayer (type)                   \u001B[0m\u001B[1m \u001B[0m┃\u001B[1m \u001B[0m\u001B[1mOutput Shape          \u001B[0m\u001B[1m \u001B[0m┃\u001B[1m \u001B[0m\u001B[1m      Param #\u001B[0m\u001B[1m \u001B[0m┃\n",
       "┡━━━━━━━━━━━━━━━━━━━━━━━━━━━━━━━━━╇━━━━━━━━━━━━━━━━━━━━━━━━╇━━━━━━━━━━━━━━━┩\n",
       "│ hidden_layer0 (\u001B[38;5;33mDense\u001B[0m)           │ (\u001B[38;5;45mNone\u001B[0m, \u001B[38;5;34m11\u001B[0m)             │           \u001B[38;5;34m132\u001B[0m │\n",
       "├─────────────────────────────────┼────────────────────────┼───────────────┤\n",
       "│ hidden_layer1 (\u001B[38;5;33mDense\u001B[0m)           │ (\u001B[38;5;45mNone\u001B[0m, \u001B[38;5;34m500\u001B[0m)            │         \u001B[38;5;34m6,000\u001B[0m │\n",
       "├─────────────────────────────────┼────────────────────────┼───────────────┤\n",
       "│ hidden_layer2 (\u001B[38;5;33mDense\u001B[0m)           │ (\u001B[38;5;45mNone\u001B[0m, \u001B[38;5;34m500\u001B[0m)            │       \u001B[38;5;34m250,500\u001B[0m │\n",
       "├─────────────────────────────────┼────────────────────────┼───────────────┤\n",
       "│ hidden_layer6 (\u001B[38;5;33mDense\u001B[0m)           │ (\u001B[38;5;45mNone\u001B[0m, \u001B[38;5;34m500\u001B[0m)            │       \u001B[38;5;34m250,500\u001B[0m │\n",
       "├─────────────────────────────────┼────────────────────────┼───────────────┤\n",
       "│ hidden_layer7 (\u001B[38;5;33mDense\u001B[0m)           │ (\u001B[38;5;45mNone\u001B[0m, \u001B[38;5;34m10\u001B[0m)             │         \u001B[38;5;34m5,010\u001B[0m │\n",
       "└─────────────────────────────────┴────────────────────────┴───────────────┘\n"
      ],
      "text/html": [
       "<pre style=\"white-space:pre;overflow-x:auto;line-height:normal;font-family:Menlo,'DejaVu Sans Mono',consolas,'Courier New',monospace\">┏━━━━━━━━━━━━━━━━━━━━━━━━━━━━━━━━━┳━━━━━━━━━━━━━━━━━━━━━━━━┳━━━━━━━━━━━━━━━┓\n",
       "┃<span style=\"font-weight: bold\"> Layer (type)                    </span>┃<span style=\"font-weight: bold\"> Output Shape           </span>┃<span style=\"font-weight: bold\">       Param # </span>┃\n",
       "┡━━━━━━━━━━━━━━━━━━━━━━━━━━━━━━━━━╇━━━━━━━━━━━━━━━━━━━━━━━━╇━━━━━━━━━━━━━━━┩\n",
       "│ hidden_layer0 (<span style=\"color: #0087ff; text-decoration-color: #0087ff\">Dense</span>)           │ (<span style=\"color: #00d7ff; text-decoration-color: #00d7ff\">None</span>, <span style=\"color: #00af00; text-decoration-color: #00af00\">11</span>)             │           <span style=\"color: #00af00; text-decoration-color: #00af00\">132</span> │\n",
       "├─────────────────────────────────┼────────────────────────┼───────────────┤\n",
       "│ hidden_layer1 (<span style=\"color: #0087ff; text-decoration-color: #0087ff\">Dense</span>)           │ (<span style=\"color: #00d7ff; text-decoration-color: #00d7ff\">None</span>, <span style=\"color: #00af00; text-decoration-color: #00af00\">500</span>)            │         <span style=\"color: #00af00; text-decoration-color: #00af00\">6,000</span> │\n",
       "├─────────────────────────────────┼────────────────────────┼───────────────┤\n",
       "│ hidden_layer2 (<span style=\"color: #0087ff; text-decoration-color: #0087ff\">Dense</span>)           │ (<span style=\"color: #00d7ff; text-decoration-color: #00d7ff\">None</span>, <span style=\"color: #00af00; text-decoration-color: #00af00\">500</span>)            │       <span style=\"color: #00af00; text-decoration-color: #00af00\">250,500</span> │\n",
       "├─────────────────────────────────┼────────────────────────┼───────────────┤\n",
       "│ hidden_layer6 (<span style=\"color: #0087ff; text-decoration-color: #0087ff\">Dense</span>)           │ (<span style=\"color: #00d7ff; text-decoration-color: #00d7ff\">None</span>, <span style=\"color: #00af00; text-decoration-color: #00af00\">500</span>)            │       <span style=\"color: #00af00; text-decoration-color: #00af00\">250,500</span> │\n",
       "├─────────────────────────────────┼────────────────────────┼───────────────┤\n",
       "│ hidden_layer7 (<span style=\"color: #0087ff; text-decoration-color: #0087ff\">Dense</span>)           │ (<span style=\"color: #00d7ff; text-decoration-color: #00d7ff\">None</span>, <span style=\"color: #00af00; text-decoration-color: #00af00\">10</span>)             │         <span style=\"color: #00af00; text-decoration-color: #00af00\">5,010</span> │\n",
       "└─────────────────────────────────┴────────────────────────┴───────────────┘\n",
       "</pre>\n"
      ]
     },
     "metadata": {},
     "output_type": "display_data"
    },
    {
     "data": {
      "text/plain": [
       "\u001B[1m Total params: \u001B[0m\u001B[38;5;34m1,536,428\u001B[0m (5.86 MB)\n"
      ],
      "text/html": [
       "<pre style=\"white-space:pre;overflow-x:auto;line-height:normal;font-family:Menlo,'DejaVu Sans Mono',consolas,'Courier New',monospace\"><span style=\"font-weight: bold\"> Total params: </span><span style=\"color: #00af00; text-decoration-color: #00af00\">1,536,428</span> (5.86 MB)\n",
       "</pre>\n"
      ]
     },
     "metadata": {},
     "output_type": "display_data"
    },
    {
     "data": {
      "text/plain": [
       "\u001B[1m Trainable params: \u001B[0m\u001B[38;5;34m512,142\u001B[0m (1.95 MB)\n"
      ],
      "text/html": [
       "<pre style=\"white-space:pre;overflow-x:auto;line-height:normal;font-family:Menlo,'DejaVu Sans Mono',consolas,'Courier New',monospace\"><span style=\"font-weight: bold\"> Trainable params: </span><span style=\"color: #00af00; text-decoration-color: #00af00\">512,142</span> (1.95 MB)\n",
       "</pre>\n"
      ]
     },
     "metadata": {},
     "output_type": "display_data"
    },
    {
     "data": {
      "text/plain": [
       "\u001B[1m Non-trainable params: \u001B[0m\u001B[38;5;34m0\u001B[0m (0.00 B)\n"
      ],
      "text/html": [
       "<pre style=\"white-space:pre;overflow-x:auto;line-height:normal;font-family:Menlo,'DejaVu Sans Mono',consolas,'Courier New',monospace\"><span style=\"font-weight: bold\"> Non-trainable params: </span><span style=\"color: #00af00; text-decoration-color: #00af00\">0</span> (0.00 B)\n",
       "</pre>\n"
      ]
     },
     "metadata": {},
     "output_type": "display_data"
    },
    {
     "data": {
      "text/plain": [
       "\u001B[1m Optimizer params: \u001B[0m\u001B[38;5;34m1,024,286\u001B[0m (3.91 MB)\n"
      ],
      "text/html": [
       "<pre style=\"white-space:pre;overflow-x:auto;line-height:normal;font-family:Menlo,'DejaVu Sans Mono',consolas,'Courier New',monospace\"><span style=\"font-weight: bold\"> Optimizer params: </span><span style=\"color: #00af00; text-decoration-color: #00af00\">1,024,286</span> (3.91 MB)\n",
       "</pre>\n"
      ]
     },
     "metadata": {},
     "output_type": "display_data"
    }
   ],
   "execution_count": 43
  },
  {
   "metadata": {
    "ExecuteTime": {
     "end_time": "2024-08-18T16:09:23.902966Z",
     "start_time": "2024-08-18T16:09:23.770591Z"
    }
   },
   "cell_type": "code",
   "source": "model.evaluate(x_test_transformed, y_test_data)",
   "id": "dc2c7a8134be1a09",
   "outputs": [
    {
     "name": "stdout",
     "output_type": "stream",
     "text": [
      "\u001B[1m9/9\u001B[0m \u001B[32m━━━━━━━━━━━━━━━━━━━━\u001B[0m\u001B[37m\u001B[0m \u001B[1m0s\u001B[0m 4ms/step - loss: 3968.5608 - mae: 3968.5608 \n"
     ]
    },
    {
     "data": {
      "text/plain": [
       "[3739.25146484375, 3739.25146484375]"
      ]
     },
     "execution_count": 44,
     "metadata": {},
     "output_type": "execute_result"
    }
   ],
   "execution_count": 44
  },
  {
   "metadata": {
    "ExecuteTime": {
     "end_time": "2024-08-18T16:52:42.709298Z",
     "start_time": "2024-08-18T16:52:42.656404Z"
    }
   },
   "cell_type": "code",
   "source": [
    "pd.DataFrame(history.history).plot()\n",
    "plt.show()"
   ],
   "id": "294c08cd2e8e4ed4",
   "outputs": [
    {
     "data": {
      "text/plain": [
       "<Figure size 640x480 with 1 Axes>"
      ],
      "image/png": "[encoded data removed]"
     },
     "metadata": {},
     "output_type": "display_data"
    }
   ],
   "execution_count": 61
  },
  {
   "metadata": {},
   "cell_type": "code",
   "outputs": [],
   "execution_count": null,
   "source": "",
   "id": "943a6422b1524d2e"
  }
 ],
 "metadata": {
  "kernelspec": {
   "display_name": "Python 3",
   "language": "python",
   "name": "python3"
  },
  "language_info": {
   "codemirror_mode": {
    "name": "ipython",
    "version": 2
   },
   "file_extension": ".py",
   "mimetype": "text/x-python",
   "name": "python",
   "nbconvert_exporter": "python",
   "pygments_lexer": "ipython2",
   "version": "2.7.6"
  }
 },
 "nbformat": 4,
 "nbformat_minor": 5
}
